{
 "cells": [
  {
   "cell_type": "code",
   "execution_count": 0,
   "metadata": {
    "application/vnd.databricks.v1+cell": {
     "cellMetadata": {
      "byteLimit": 2048000,
      "rowLimit": 10000
     },
     "inputWidgets": {},
     "nuid": "4ddcdca8-d29b-4f4e-9453-d77e0213a71d",
     "showTitle": false,
     "title": ""
    }
   },
   "outputs": [
    {
     "output_type": "display_data",
     "data": {
      "text/html": [
       "\n",
       "            <div>\n",
       "                <p><b>SparkSession - hive</b></p>\n",
       "                \n",
       "        <div>\n",
       "            <p><b>SparkContext</b></p>\n",
       "\n",
       "            <p><a href=\"/?o=817561316962146#setting/sparkui/0501-203748-fvrlo4ly/driver-6760202319624847238\">Spark UI</a></p>\n",
       "\n",
       "            <dl>\n",
       "              <dt>Version</dt>\n",
       "                <dd><code>v3.3.2</code></dd>\n",
       "              <dt>Master</dt>\n",
       "                <dd><code>local[8]</code></dd>\n",
       "              <dt>AppName</dt>\n",
       "                <dd><code>Databricks Shell</code></dd>\n",
       "            </dl>\n",
       "        </div>\n",
       "        \n",
       "            </div>\n",
       "        "
      ]
     },
     "metadata": {
      "application/vnd.databricks.v1+output": {
       "addedWidgets": {},
       "arguments": {},
       "data": "\n            <div>\n                <p><b>SparkSession - hive</b></p>\n                \n        <div>\n            <p><b>SparkContext</b></p>\n\n            <p><a href=\"/?o=817561316962146#setting/sparkui/0501-203748-fvrlo4ly/driver-6760202319624847238\">Spark UI</a></p>\n\n            <dl>\n              <dt>Version</dt>\n                <dd><code>v3.3.2</code></dd>\n              <dt>Master</dt>\n                <dd><code>local[8]</code></dd>\n              <dt>AppName</dt>\n                <dd><code>Databricks Shell</code></dd>\n            </dl>\n        </div>\n        \n            </div>\n        ",
       "datasetInfos": [],
       "metadata": {},
       "removedWidgets": [],
       "textData": null,
       "type": "htmlSandbox"
      }
     },
     "output_type": "display_data"
    }
   ],
   "source": [
    "spark"
   ]
  },
  {
   "cell_type": "code",
   "execution_count": 0,
   "metadata": {
    "application/vnd.databricks.v1+cell": {
     "cellMetadata": {
      "byteLimit": 2048000,
      "rowLimit": 10000
     },
     "inputWidgets": {},
     "nuid": "5c23a849-2478-4ba5-a1c8-4c62a32a2aca",
     "showTitle": false,
     "title": ""
    }
   },
   "outputs": [],
   "source": [
    "from pyspark.sql import SparkSession\n",
    "\n",
    "spark = SparkSession.builder.appName(\"Environmental Reporting\").getOrCreate()"
   ]
  },
  {
   "cell_type": "code",
   "execution_count": 0,
   "metadata": {
    "application/vnd.databricks.v1+cell": {
     "cellMetadata": {
      "byteLimit": 2048000,
      "rowLimit": 10000
     },
     "inputWidgets": {},
     "nuid": "c7787616-c290-4417-83f3-fc64aba4575a",
     "showTitle": false,
     "title": ""
    }
   },
   "outputs": [
    {
     "output_type": "stream",
     "name": "stdout",
     "output_type": "stream",
     "text": [
      "Collecting confluent-kafka\r\n  Downloading confluent_kafka-2.4.0-cp39-cp39-manylinux_2_17_x86_64.manylinux2014_x86_64.whl (4.0 MB)\r\n\u001B[?25l\r\u001B[K     |                                | 10 kB 15.4 MB/s eta 0:00:01\r\u001B[K     |▏                               | 20 kB 4.8 MB/s eta 0:00:01\r\u001B[K     |▎                               | 30 kB 7.0 MB/s eta 0:00:01\r\u001B[K     |▎                               | 40 kB 4.2 MB/s eta 0:00:01\r\u001B[K     |▍                               | 51 kB 4.4 MB/s eta 0:00:01\r\u001B[K     |▌                               | 61 kB 5.2 MB/s eta 0:00:01\r\u001B[K     |▋                               | 71 kB 5.4 MB/s eta 0:00:01\r\u001B[K     |▋                               | 81 kB 6.1 MB/s eta 0:00:01\r\u001B[K     |▊                               | 92 kB 5.1 MB/s eta 0:00:01\r\u001B[K     |▉                               | 102 kB 5.2 MB/s eta 0:00:01\r\u001B[K     |█                               | 112 kB 5.2 MB/s eta 0:00:01\r\u001B[K     |█                               | 122 kB 5.2 MB/s eta 0:00:01\r\u001B[K     |█                               | 133 kB 5.2 MB/s eta 0:00:01\r\u001B[K     |█▏                              | 143 kB 5.2 MB/s eta 0:00:01\r\u001B[K     |█▏                              | 153 kB 5.2 MB/s eta 0:00:01\r\u001B[K     |█▎                              | 163 kB 5.2 MB/s eta 0:00:01\r\u001B[K     |█▍                              | 174 kB 5.2 MB/s eta 0:00:01\r\u001B[K     |█▌                              | 184 kB 5.2 MB/s eta 0:00:01\r\u001B[K     |█▌                              | 194 kB 5.2 MB/s eta 0:00:01\r\u001B[K     |█▋                              | 204 kB 5.2 MB/s eta 0:00:01\r\u001B[K     |█▊                              | 215 kB 5.2 MB/s eta 0:00:01\r\u001B[K     |█▉                              | 225 kB 5.2 MB/s eta 0:00:01\r\u001B[K     |█▉                              | 235 kB 5.2 MB/s eta 0:00:01\r\u001B[K     |██                              | 245 kB 5.2 MB/s eta 0:00:01\r\u001B[K     |██                              | 256 kB 5.2 MB/s eta 0:00:01\r\u001B[K     |██                              | 266 kB 5.2 MB/s eta 0:00:01\r\u001B[K     |██▏                             | 276 kB 5.2 MB/s eta 0:00:01\r\u001B[K     |██▎                             | 286 kB 5.2 MB/s eta 0:00:01\r\u001B[K     |██▍                             | 296 kB 5.2 MB/s eta 0:00:01\r\u001B[K     |██▍                             | 307 kB 5.2 MB/s eta 0:00:01\r\u001B[K     |██▌                             | 317 kB 5.2 MB/s eta 0:00:01\r\u001B[K     |██▋                             | 327 kB 5.2 MB/s eta 0:00:01\r\u001B[K     |██▊                             | 337 kB 5.2 MB/s eta 0:00:01\r\u001B[K     |██▊                             | 348 kB 5.2 MB/s eta 0:00:01\r\u001B[K     |██▉                             | 358 kB 5.2 MB/s eta 0:00:01\r\u001B[K     |███                             | 368 kB 5.2 MB/s eta 0:00:01\r\u001B[K     |███                             | 378 kB 5.2 MB/s eta 0:00:01\r\u001B[K     |███                             | 389 kB 5.2 MB/s eta 0:00:01\r\u001B[K     |███▏                            | 399 kB 5.2 MB/s eta 0:00:01\r\u001B[K     |███▎                            | 409 kB 5.2 MB/s eta 0:00:01\r\u001B[K     |███▎                            | 419 kB 5.2 MB/s eta 0:00:01\r\u001B[K     |███▍                            | 430 kB 5.2 MB/s eta 0:00:01\r\u001B[K     |███▌                            | 440 kB 5.2 MB/s eta 0:00:01\r\u001B[K     |███▋                            | 450 kB 5.2 MB/s eta 0:00:01\r\u001B[K     |███▋                            | 460 kB 5.2 MB/s eta 0:00:01\r\u001B[K     |███▊                            | 471 kB 5.2 MB/s eta 0:00:01\r\u001B[K     |███▉                            | 481 kB 5.2 MB/s eta 0:00:01\r\u001B[K     |████                            | 491 kB 5.2 MB/s eta 0:00:01\r\u001B[K     |████                            | 501 kB 5.2 MB/s eta 0:00:01\r\u001B[K     |████                            | 512 kB 5.2 MB/s eta 0:00:01\r\u001B[K     |████▏                           | 522 kB 5.2 MB/s eta 0:00:01\r\u001B[K     |████▏                           | 532 kB 5.2 MB/s eta 0:00:01\r\u001B[K     |████▎                           | 542 kB 5.2 MB/s eta 0:00:01\r\u001B[K     |████▍                           | 552 kB 5.2 MB/s eta 0:00:01\r\u001B[K     |████▌                           | 563 kB 5.2 MB/s eta 0:00:01\r\u001B[K     |████▌                           | 573 kB 5.2 MB/s eta 0:00:01\r\u001B[K     |████▋                           | 583 kB 5.2 MB/s eta 0:00:01\r\u001B[K     |████▊                           | 593 kB 5.2 MB/s eta 0:00:01\r\u001B[K     |████▉                           | 604 kB 5.2 MB/s eta 0:00:01\r\u001B[K     |████▉                           | 614 kB 5.2 MB/s eta 0:00:01\r\u001B[K     |█████                           | 624 kB 5.2 MB/s eta 0:00:01\r\u001B[K     |█████                           | 634 kB 5.2 MB/s eta 0:00:01\r\u001B[K     |█████                           | 645 kB 5.2 MB/s eta 0:00:01\r\u001B[K     |█████▏                          | 655 kB 5.2 MB/s eta 0:00:01\r\u001B[K     |█████▎                          | 665 kB 5.2 MB/s eta 0:00:01\r\u001B[K     |█████▍                          | 675 kB 5.2 MB/s eta 0:00:01\r\u001B[K     |█████▍                          | 686 kB 5.2 MB/s eta 0:00:01\r\u001B[K     |█████▌                          | 696 kB 5.2 MB/s eta 0:00:01\r\u001B[K     |█████▋                          | 706 kB 5.2 MB/s eta 0:00:01\r\u001B[K     |█████▊                          | 716 kB 5.2 MB/s eta 0:00:01\r\u001B[K     |█████▊                          | 727 kB 5.2 MB/s eta 0:00:01\r\u001B[K     |█████▉                          | 737 kB 5.2 MB/s eta 0:00:01\r\u001B[K     |██████                          | 747 kB 5.2 MB/s eta 0:00:01\r\u001B[K     |██████                          | 757 kB 5.2 MB/s eta 0:00:01\r\u001B[K     |██████                          | 768 kB 5.2 MB/s eta 0:00:01\r\u001B[K     |██████▏                         | 778 kB 5.2 MB/s eta 0:00:01\r\u001B[K     |██████▎                         | 788 kB 5.2 MB/s eta 0:00:01\r\u001B[K     |██████▎                         | 798 kB 5.2 MB/s eta 0:00:01\r\u001B[K     |██████▍                         | 808 kB 5.2 MB/s eta 0:00:01\r\u001B[K     |██████▌                         | 819 kB 5.2 MB/s eta 0:00:01\r\u001B[K     |██████▋                         | 829 kB 5.2 MB/s eta 0:00:01\r\u001B[K     |██████▋                         | 839 kB 5.2 MB/s eta 0:00:01\r\u001B[K     |██████▊                         | 849 kB 5.2 MB/s eta 0:00:01\r\u001B[K     |██████▉                         | 860 kB 5.2 MB/s eta 0:00:01\r\u001B[K     |██████▉                         | 870 kB 5.2 MB/s eta 0:00:01\r\u001B[K     |███████                         | 880 kB 5.2 MB/s eta 0:00:01\r\u001B[K     |███████                         | 890 kB 5.2 MB/s eta 0:00:01\r\u001B[K     |███████▏                        | 901 kB 5.2 MB/s eta 0:00:01\r\u001B[K     |███████▏                        | 911 kB 5.2 MB/s eta 0:00:01\r\u001B[K     |███████▎                        | 921 kB 5.2 MB/s eta 0:00:01\r\u001B[K     |███████▍                        | 931 kB 5.2 MB/s eta 0:00:01\r\u001B[K     |███████▌                        | 942 kB 5.2 MB/s eta 0:00:01\r\u001B[K     |███████▌                        | 952 kB 5.2 MB/s eta 0:00:01\r\u001B[K     |███████▋                        | 962 kB 5.2 MB/s eta 0:00:01\r\u001B[K     |███████▊                        | 972 kB 5.2 MB/s eta 0:00:01\r\u001B[K     |███████▉                        | 983 kB 5.2 MB/s eta 0:00:01\r\u001B[K     |███████▉                        | 993 kB 5.2 MB/s eta 0:00:01\r\u001B[K     |████████                        | 1.0 MB 5.2 MB/s eta 0:00:01\r\u001B[K     |████████                        | 1.0 MB 5.2 MB/s eta 0:00:01\r\u001B[K     |████████                        | 1.0 MB 5.2 MB/s eta 0:00:01\r\u001B[K     |████████▏                       | 1.0 MB 5.2 MB/s eta 0:00:01\r\u001B[K     |████████▎                       | 1.0 MB 5.2 MB/s eta 0:00:01\r\u001B[K     |████████▍                       | 1.1 MB 5.2 MB/s eta 0:00:01\r\u001B[K     |████████▍                       | 1.1 MB 5.2 MB/s eta 0:00:01\r\u001B[K     |████████▌                       | 1.1 MB 5.2 MB/s eta 0:00:01\r\u001B[K     |████████▋                       | 1.1 MB 5.2 MB/s eta 0:00:01\r\u001B[K     |████████▊                       | 1.1 MB 5.2 MB/s eta 0:00:01\r\u001B[K     |████████▊                       | 1.1 MB 5.2 MB/s eta 0:00:01\r\u001B[K     |████████▉                       | 1.1 MB 5.2 MB/s eta 0:00:01\r\u001B[K     |█████████                       | 1.1 MB 5.2 MB/s eta 0:00:01\r\u001B[K     |█████████                       | 1.1 MB 5.2 MB/s eta 0:00:01\r\u001B[K     |█████████                       | 1.1 MB 5.2 MB/s eta 0:00:01\r\u001B[K     |█████████▏                      | 1.2 MB 5.2 MB/s eta 0:00:01\r\u001B[K     |█████████▎                      | 1.2 MB 5.2 MB/s eta 0:00:01\r\u001B[K     |█████████▎                      | 1.2 MB 5.2 MB/s eta 0:00:01\r\u001B[K     |█████████▍                      | 1.2 MB 5.2 MB/s eta 0:00:01\r\u001B[K     |█████████▌                      | 1.2 MB 5.2 MB/s eta 0:00:01\r\u001B[K     |█████████▋                      | 1.2 MB 5.2 MB/s eta 0:00:01\r\u001B[K     |█████████▋                      | 1.2 MB 5.2 MB/s eta 0:00:01\r\u001B[K     |█████████▊                      | 1.2 MB 5.2 MB/s eta 0:00:01\r\u001B[K     |█████████▉                      | 1.2 MB 5.2 MB/s eta 0:00:01\r\u001B[K     |█████████▉                      | 1.2 MB 5.2 MB/s eta 0:00:01\r\u001B[K     |██████████                      | 1.3 MB 5.2 MB/s eta 0:00:01\r\u001B[K     |██████████                      | 1.3 MB 5.2 MB/s eta 0:00:01\r\u001B[K     |██████████▏                     | 1.3 MB 5.2 MB/s eta 0:00:01\r\u001B[K     |██████████▏                     | 1.3 MB 5.2 MB/s eta 0:00:01\r\u001B[K     |██████████▎                     | 1.3 MB 5.2 MB/s eta 0:00:01\r\u001B[K     |██████████▍                     | 1.3 MB 5.2 MB/s eta 0:00:01\r\u001B[K     |██████████▌                     | 1.3 MB 5.2 MB/s eta 0:00:01\r\u001B[K     |██████████▌                     | 1.3 MB 5.2 MB/s eta 0:00:01\r\u001B[K     |██████████▋                     | 1.3 MB 5.2 MB/s eta 0:00:01\r\u001B[K     |██████████▊                     | 1.4 MB 5.2 MB/s eta 0:00:01\r\u001B[K     |██████████▊                     | 1.4 MB 5.2 MB/s eta 0:00:01\r\u001B[K     |██████████▉                     | 1.4 MB 5.2 MB/s eta 0:00:01\r\u001B[K     |███████████                     | 1.4 MB 5.2 MB/s eta 0:00:01\r\u001B[K     |███████████                     | 1.4 MB 5.2 MB/s eta 0:00:01\r\u001B[K     |███████████                     | 1.4 MB 5.2 MB/s eta 0:00:01\r\u001B[K     |███████████▏                    | 1.4 MB 5.2 MB/s eta 0:00:01\r\u001B[K     |███████████▎                    | 1.4 MB 5.2 MB/s eta 0:00:01\r\u001B[K     |███████████▍                    | 1.4 MB 5.2 MB/s eta 0:00:01\r\u001B[K     |███████████▍                    | 1.4 MB 5.2 MB/s eta 0:00:01\r\u001B[K     |███████████▌                    | 1.5 MB 5.2 MB/s eta 0:00:01\r\u001B[K     |███████████▋                    | 1.5 MB 5.2 MB/s eta 0:00:01\r\u001B[K     |███████████▊                    | 1.5 MB 5.2 MB/s eta 0:00:01\r\u001B[K     |███████████▊                    | 1.5 MB 5.2 MB/s eta 0:00:01\r\u001B[K     |███████████▉                    | 1.5 MB 5.2 MB/s eta 0:00:01\r\u001B[K     |████████████                    | 1.5 MB 5.2 MB/s eta 0:00:01\r\u001B[K     |████████████                    | 1.5 MB 5.2 MB/s eta 0:00:01\r\u001B[K     |████████████                    | 1.5 MB 5.2 MB/s eta 0:00:01\r\u001B[K     |████████████▏                   | 1.5 MB 5.2 MB/s eta 0:00:01\r\u001B[K     |████████████▎                   | 1.5 MB 5.2 MB/s eta 0:00:01\r\u001B[K     |████████████▎                   | 1.6 MB 5.2 MB/s eta 0:00:01\r\u001B[K     |████████████▍                   | 1.6 MB 5.2 MB/s eta 0:00:01\r\u001B[K     |████████████▌                   | 1.6 MB 5.2 MB/s eta 0:00:01\r\u001B[K     |████████████▋                   | 1.6 MB 5.2 MB/s eta 0:00:01\r\u001B[K     |████████████▋                   | 1.6 MB 5.2 MB/s eta 0:00:01\r\u001B[K     |████████████▊                   | 1.6 MB 5.2 MB/s eta 0:00:01\r\u001B[K     |████████████▉                   | 1.6 MB 5.2 MB/s eta 0:00:01\r\u001B[K     |████████████▉                   | 1.6 MB 5.2 MB/s eta 0:00:01\r\u001B[K     |█████████████                   | 1.6 MB 5.2 MB/s eta 0:00:01\r\u001B[K     |█████████████                   | 1.6 MB 5.2 MB/s eta 0:00:01\r\u001B[K     |█████████████▏                  | 1.7 MB 5.2 MB/s eta 0:00:01\r\u001B[K     |█████████████▏                  | 1.7 MB 5.2 MB/s eta 0:00:01\r\u001B[K     |█████████████▎                  | 1.7 MB 5.2 MB/s eta 0:00:01\r\u001B[K     |█████████████▍                  | 1.7 MB 5.2 MB/s eta 0:00:01\r\u001B[K     |█████████████▌                  | 1.7 MB 5.2 MB/s eta 0:00:01\r\u001B[K     |█████████████▌                  | 1.7 MB 5.2 MB/s eta 0:00:01\r\u001B[K     |█████████████▋                  | 1.7 MB 5.2 MB/s eta 0:00:01\r\u001B[K     |█████████████▊                  | 1.7 MB 5.2 MB/s eta 0:00:01\r\u001B[K     |█████████████▊                  | 1.7 MB 5.2 MB/s eta 0:00:01\r\u001B[K     |█████████████▉                  | 1.8 MB 5.2 MB/s eta 0:00:01\r\u001B[K     |██████████████                  | 1.8 MB 5.2 MB/s eta 0:00:01\r\u001B[K     |██████████████                  | 1.8 MB 5.2 MB/s eta 0:00:01\r\u001B[K     |██████████████                  | 1.8 MB 5.2 MB/s eta 0:00:01\r\u001B[K     |██████████████▏                 | 1.8 MB 5.2 MB/s eta 0:00:01\r\u001B[K     |██████████████▎                 | 1.8 MB 5.2 MB/s eta 0:00:01\r\u001B[K     |██████████████▍                 | 1.8 MB 5.2 MB/s eta 0:00:01\r\u001B[K     |██████████████▍                 | 1.8 MB 5.2 MB/s eta 0:00:01\r\u001B[K     |██████████████▌                 | 1.8 MB 5.2 MB/s eta 0:00:01\r\u001B[K     |██████████████▋                 | 1.8 MB 5.2 MB/s eta 0:00:01\r\u001B[K     |██████████████▊                 | 1.9 MB 5.2 MB/s eta 0:00:01\r\u001B[K     |██████████████▊                 | 1.9 MB 5.2 MB/s eta 0:00:01\r\u001B[K     |██████████████▉                 | 1.9 MB 5.2 MB/s eta 0:00:01\r\u001B[K     |███████████████                 | 1.9 MB 5.2 MB/s eta 0:00:01\r\u001B[K     |███████████████                 | 1.9 MB 5.2 MB/s eta 0:00:01\r\u001B[K     |███████████████                 | 1.9 MB 5.2 MB/s eta 0:00:01\r\u001B[K     |███████████████▏                | 1.9 MB 5.2 MB/s eta 0:00:01\r\u001B[K     |███████████████▎                | 1.9 MB 5.2 MB/s eta 0:00:01\r\u001B[K     |███████████████▎                | 1.9 MB 5.2 MB/s eta 0:00:01\r\u001B[K     |███████████████▍                | 1.9 MB 5.2 MB/s eta 0:00:01\r\u001B[K     |███████████████▌                | 2.0 MB 5.2 MB/s eta 0:00:01\r\u001B[K     |███████████████▋                | 2.0 MB 5.2 MB/s eta 0:00:01\r\u001B[K     |███████████████▋                | 2.0 MB 5.2 MB/s eta 0:00:01\r\u001B[K     |███████████████▊                | 2.0 MB 5.2 MB/s eta 0:00:01\r\u001B[K     |███████████████▉                | 2.0 MB 5.2 MB/s eta 0:00:01\r\u001B[K     |███████████████▉                | 2.0 MB 5.2 MB/s eta 0:00:01\r\u001B[K     |████████████████                | 2.0 MB 5.2 MB/s eta 0:00:01\r\u001B[K     |████████████████                | 2.0 MB 5.2 MB/s eta 0:00:01\r\u001B[K     |████████████████▏               | 2.0 MB 5.2 MB/s eta 0:00:01\r\u001B[K     |████████████████▏               | 2.0 MB 5.2 MB/s eta 0:00:01\r\u001B[K     |████████████████▎               | 2.1 MB 5.2 MB/s eta 0:00:01\r\u001B[K     |████████████████▍               | 2.1 MB 5.2 MB/s eta 0:00:01\r\u001B[K     |████████████████▌               | 2.1 MB 5.2 MB/s eta 0:00:01\r\u001B[K     |████████████████▌               | 2.1 MB 5.2 MB/s eta 0:00:01\r\u001B[K     |████████████████▋               | 2.1 MB 5.2 MB/s eta 0:00:01\r\u001B[K     |████████████████▊               | 2.1 MB 5.2 MB/s eta 0:00:01\r\u001B[K     |████████████████▊               | 2.1 MB 5.2 MB/s eta 0:00:01\r\u001B[K     |████████████████▉               | 2.1 MB 5.2 MB/s eta 0:00:01\r\u001B[K     |█████████████████               | 2.1 MB 5.2 MB/s eta 0:00:01\r\u001B[K     |█████████████████               | 2.2 MB 5.2 MB/s eta 0:00:01\r\u001B[K     |█████████████████               | 2.2 MB 5.2 MB/s eta 0:00:01\r\u001B[K     |█████████████████▏              | 2.2 MB 5.2 MB/s eta 0:00:01\r\u001B[K     |█████████████████▎              | 2.2 MB 5.2 MB/s eta 0:00:01\r\u001B[K     |█████████████████▍              | 2.2 MB 5.2 MB/s eta 0:00:01\r\u001B[K     |█████████████████▍              | 2.2 MB 5.2 MB/s eta 0:00:01\r\u001B[K     |█████████████████▌              | 2.2 MB 5.2 MB/s eta 0:00:01\r\u001B[K     |█████████████████▋              | 2.2 MB 5.2 MB/s eta 0:00:01\r\u001B[K     |█████████████████▋              | 2.2 MB 5.2 MB/s eta 0:00:01\r\u001B[K     |█████████████████▊              | 2.2 MB 5.2 MB/s eta 0:00:01\r\u001B[K     |█████████████████▉              | 2.3 MB 5.2 MB/s eta 0:00:01\r\u001B[K     |██████████████████              | 2.3 MB 5.2 MB/s eta 0:00:01\r\u001B[K     |██████████████████              | 2.3 MB 5.2 MB/s eta 0:00:01\r\u001B[K     |██████████████████              | 2.3 MB 5.2 MB/s eta 0:00:01\r\u001B[K     |██████████████████▏             | 2.3 MB 5.2 MB/s eta 0:00:01\r\u001B[K     |██████████████████▎             | 2.3 MB 5.2 MB/s eta 0:00:01\r\u001B[K     |██████████████████▎             | 2.3 MB 5.2 MB/s eta 0:00:01\r\u001B[K     |██████████████████▍             | 2.3 MB 5.2 MB/s eta 0:00:01\r\u001B[K     |██████████████████▌             | 2.3 MB 5.2 MB/s eta 0:00:01\r\u001B[K     |██████████████████▋             | 2.3 MB 5.2 MB/s eta 0:00:01\r\u001B[K     |██████████████████▋             | 2.4 MB 5.2 MB/s eta 0:00:01\r\u001B[K     |██████████████████▊             | 2.4 MB 5.2 MB/s eta 0:00:01\r\u001B[K     |██████████████████▉             | 2.4 MB 5.2 MB/s eta 0:00:01\r\u001B[K     |██████████████████▉             | 2.4 MB 5.2 MB/s eta 0:00:01\r\u001B[K     |███████████████████             | 2.4 MB 5.2 MB/s eta 0:00:01\r\u001B[K     |███████████████████             | 2.4 MB 5.2 MB/s eta 0:00:01\r\u001B[K     |███████████████████▏            | 2.4 MB 5.2 MB/s eta 0:00:01\r\u001B[K     |███████████████████▏            | 2.4 MB 5.2 MB/s eta 0:00:01\r\u001B[K     |███████████████████▎            | 2.4 MB 5.2 MB/s eta 0:00:01\r\u001B[K     |███████████████████▍            | 2.4 MB 5.2 MB/s eta 0:00:01\r\u001B[K     |███████████████████▌            | 2.5 MB 5.2 MB/s eta 0:00:01\r\u001B[K     |███████████████████▌            | 2.5 MB 5.2 MB/s eta 0:00:01\r\u001B[K     |███████████████████▋            | 2.5 MB 5.2 MB/s eta 0:00:01\r\u001B[K     |███████████████████▊            | 2.5 MB 5.2 MB/s eta 0:00:01\r\u001B[K     |███████████████████▊            | 2.5 MB 5.2 MB/s eta 0:00:01\r\u001B[K     |███████████████████▉            | 2.5 MB 5.2 MB/s eta 0:00:01\r\u001B[K     |████████████████████            | 2.5 MB 5.2 MB/s eta 0:00:01\r\u001B[K     |████████████████████            | 2.5 MB 5.2 MB/s eta 0:00:01\r\u001B[K     |████████████████████            | 2.5 MB 5.2 MB/s eta 0:00:01\r\u001B[K     |████████████████████▏           | 2.5 MB 5.2 MB/s eta 0:00:01\r\u001B[K     |████████████████████▎           | 2.6 MB 5.2 MB/s eta 0:00:01\r\u001B[K     |████████████████████▍           | 2.6 MB 5.2 MB/s eta 0:00:01\r\u001B[K     |████████████████████▍           | 2.6 MB 5.2 MB/s eta 0:00:01\r\u001B[K     |████████████████████▌           | 2.6 MB 5.2 MB/s eta 0:00:01\r\u001B[K     |████████████████████▋           | 2.6 MB 5.2 MB/s eta 0:00:01\r\u001B[K     |████████████████████▋           | 2.6 MB 5.2 MB/s eta 0:00:01\r\u001B[K     |████████████████████▊           | 2.6 MB 5.2 MB/s eta 0:00:01\r\u001B[K     |████████████████████▉           | 2.6 MB 5.2 MB/s eta 0:00:01\r\u001B[K     |█████████████████████           | 2.6 MB 5.2 MB/s eta 0:00:01\r\u001B[K     |█████████████████████           | 2.7 MB 5.2 MB/s eta 0:00:01\r\u001B[K     |█████████████████████           | 2.7 MB 5.2 MB/s eta 0:00:01\r\u001B[K     |█████████████████████▏          | 2.7 MB 5.2 MB/s eta 0:00:01\r\u001B[K     |█████████████████████▎          | 2.7 MB 5.2 MB/s eta 0:00:01\r\u001B[K     |█████████████████████▎          | 2.7 MB 5.2 MB/s eta 0:00:01\r\u001B[K     |█████████████████████▍          | 2.7 MB 5.2 MB/s eta 0:00:01\r\u001B[K     |█████████████████████▌          | 2.7 MB 5.2 MB/s eta 0:00:01\r\u001B[K     |█████████████████████▌          | 2.7 MB 5.2 MB/s eta 0:00:01\r\u001B[K     |█████████████████████▋          | 2.7 MB 5.2 MB/s eta 0:00:01\r\u001B[K     |█████████████████████▊          | 2.7 MB 5.2 MB/s eta 0:00:01\r\u001B[K     |█████████████████████▉          | 2.8 MB 5.2 MB/s eta 0:00:01\r\u001B[K     |█████████████████████▉          | 2.8 MB 5.2 MB/s eta 0:00:01\r\u001B[K     |██████████████████████          | 2.8 MB 5.2 MB/s eta 0:00:01\r\u001B[K     |██████████████████████          | 2.8 MB 5.2 MB/s eta 0:00:01\r\u001B[K     |██████████████████████▏         | 2.8 MB 5.2 MB/s eta 0:00:01\r\u001B[K     |██████████████████████▏         | 2.8 MB 5.2 MB/s eta 0:00:01\r\u001B[K     |██████████████████████▎         | 2.8 MB 5.2 MB/s eta 0:00:01\r\u001B[K     |██████████████████████▍         | 2.8 MB 5.2 MB/s eta 0:00:01\r\u001B[K     |██████████████████████▌         | 2.8 MB 5.2 MB/s eta 0:00:01\r\u001B[K     |██████████████████████▌         | 2.8 MB 5.2 MB/s eta 0:00:01\r\u001B[K     |██████████████████████▋         | 2.9 MB 5.2 MB/s eta 0:00:01\r\u001B[K     |██████████████████████▊         | 2.9 MB 5.2 MB/s eta 0:00:01\r\u001B[K     |██████████████████████▊         | 2.9 MB 5.2 MB/s eta 0:00:01\r\u001B[K     |██████████████████████▉         | 2.9 MB 5.2 MB/s eta 0:00:01\r\u001B[K     |███████████████████████         | 2.9 MB 5.2 MB/s eta 0:00:01\r\u001B[K     |███████████████████████         | 2.9 MB 5.2 MB/s eta 0:00:01\r\u001B[K     |███████████████████████         | 2.9 MB 5.2 MB/s eta 0:00:01\r\u001B[K     |███████████████████████▏        | 2.9 MB 5.2 MB/s eta 0:00:01\r\u001B[K     |███████████████████████▎        | 2.9 MB 5.2 MB/s eta 0:00:01\r\u001B[K     |███████████████████████▍        | 2.9 MB 5.2 MB/s eta 0:00:01\r\u001B[K     |███████████████████████▍        | 3.0 MB 5.2 MB/s eta 0:00:01\r\u001B[K     |███████████████████████▌        | 3.0 MB 5.2 MB/s eta 0:00:01\r\u001B[K     |███████████████████████▋        | 3.0 MB 5.2 MB/s eta 0:00:01\r\u001B[K     |███████████████████████▋        | 3.0 MB 5.2 MB/s eta 0:00:01\r\u001B[K     |███████████████████████▊        | 3.0 MB 5.2 MB/s eta 0:00:01\r\u001B[K     |███████████████████████▉        | 3.0 MB 5.2 MB/s eta 0:00:01\r\u001B[K     |████████████████████████        | 3.0 MB 5.2 MB/s eta 0:00:01\r\u001B[K     |████████████████████████        | 3.0 MB 5.2 MB/s eta 0:00:01\r\u001B[K     |████████████████████████        | 3.0 MB 5.2 MB/s eta 0:00:01\r\u001B[K     |████████████████████████▏       | 3.1 MB 5.2 MB/s eta 0:00:01\r\u001B[K     |████████████████████████▎       | 3.1 MB 5.2 MB/s eta 0:00:01\r\u001B[K     |████████████████████████▎       | 3.1 MB 5.2 MB/s eta 0:00:01\r\u001B[K     |████████████████████████▍       | 3.1 MB 5.2 MB/s eta 0:00:01\r\u001B[K     |████████████████████████▌       | 3.1 MB 5.2 MB/s eta 0:00:01\r\u001B[K     |████████████████████████▌       | 3.1 MB 5.2 MB/s eta 0:00:01\r\u001B[K     |████████████████████████▋       | 3.1 MB 5.2 MB/s eta 0:00:01\r\u001B[K     |████████████████████████▊       | 3.1 MB 5.2 MB/s eta 0:00:01\r\u001B[K     |████████████████████████▉       | 3.1 MB 5.2 MB/s eta 0:00:01\r\u001B[K     |████████████████████████▉       | 3.1 MB 5.2 MB/s eta 0:00:01\r\u001B[K     |█████████████████████████       | 3.2 MB 5.2 MB/s eta 0:00:01\r\u001B[K     |█████████████████████████       | 3.2 MB 5.2 MB/s eta 0:00:01\r\u001B[K     |█████████████████████████▏      | 3.2 MB 5.2 MB/s eta 0:00:01\r\u001B[K     |█████████████████████████▏      | 3.2 MB 5.2 MB/s eta 0:00:01\r\u001B[K     |█████████████████████████▎      | 3.2 MB 5.2 MB/s eta 0:00:01\r\u001B[K     |█████████████████████████▍      | 3.2 MB 5.2 MB/s eta 0:00:01\r\u001B[K     |█████████████████████████▌      | 3.2 MB 5.2 MB/s eta 0:00:01\r\u001B[K     |█████████████████████████▌      | 3.2 MB 5.2 MB/s eta 0:00:01\r\u001B[K     |█████████████████████████▋      | 3.2 MB 5.2 MB/s eta 0:00:01\r\u001B[K     |█████████████████████████▊      | 3.2 MB 5.2 MB/s eta 0:00:01\r\u001B[K     |█████████████████████████▊      | 3.3 MB 5.2 MB/s eta 0:00:01\r\u001B[K     |█████████████████████████▉      | 3.3 MB 5.2 MB/s eta 0:00:01\r\u001B[K     |██████████████████████████      | 3.3 MB 5.2 MB/s eta 0:00:01\r\u001B[K     |██████████████████████████      | 3.3 MB 5.2 MB/s eta 0:00:01\r\u001B[K     |██████████████████████████      | 3.3 MB 5.2 MB/s eta 0:00:01\r\u001B[K     |██████████████████████████▏     | 3.3 MB 5.2 MB/s eta 0:00:01\r\u001B[K     |██████████████████████████▎     | 3.3 MB 5.2 MB/s eta 0:00:01\r\u001B[K     |██████████████████████████▍     | 3.3 MB 5.2 MB/s eta 0:00:01\r\u001B[K     |██████████████████████████▍     | 3.3 MB 5.2 MB/s eta 0:00:01\r\u001B[K     |██████████████████████████▌     | 3.3 MB 5.2 MB/s eta 0:00:01\r\u001B[K     |██████████████████████████▋     | 3.4 MB 5.2 MB/s eta 0:00:01\r\u001B[K     |██████████████████████████▋     | 3.4 MB 5.2 MB/s eta 0:00:01\r\u001B[K     |██████████████████████████▊     | 3.4 MB 5.2 MB/s eta 0:00:01\r\u001B[K     |██████████████████████████▉     | 3.4 MB 5.2 MB/s eta 0:00:01\r\u001B[K     |███████████████████████████     | 3.4 MB 5.2 MB/s eta 0:00:01\r\u001B[K     |███████████████████████████     | 3.4 MB 5.2 MB/s eta 0:00:01\r\u001B[K     |███████████████████████████     | 3.4 MB 5.2 MB/s eta 0:00:01\r\u001B[K     |███████████████████████████▏    | 3.4 MB 5.2 MB/s eta 0:00:01\r\u001B[K     |███████████████████████████▎    | 3.4 MB 5.2 MB/s eta 0:00:01\r\u001B[K     |███████████████████████████▎    | 3.5 MB 5.2 MB/s eta 0:00:01\r\u001B[K     |███████████████████████████▍    | 3.5 MB 5.2 MB/s eta 0:00:01\r\u001B[K     |███████████████████████████▌    | 3.5 MB 5.2 MB/s eta 0:00:01\r\u001B[K     |███████████████████████████▌    | 3.5 MB 5.2 MB/s eta 0:00:01\r\u001B[K     |███████████████████████████▋    | 3.5 MB 5.2 MB/s eta 0:00:01\r\u001B[K     |███████████████████████████▊    | 3.5 MB 5.2 MB/s eta 0:00:01\r\u001B[K     |███████████████████████████▉    | 3.5 MB 5.2 MB/s eta 0:00:01\r\u001B[K     |███████████████████████████▉    | 3.5 MB 5.2 MB/s eta 0:00:01\r\u001B[K     |████████████████████████████    | 3.5 MB 5.2 MB/s eta 0:00:01\r\u001B[K     |████████████████████████████    | 3.5 MB 5.2 MB/s eta 0:00:01\r\u001B[K     |████████████████████████████▏   | 3.6 MB 5.2 MB/s eta 0:00:01\r\u001B[K     |████████████████████████████▏   | 3.6 MB 5.2 MB/s eta 0:00:01\r\u001B[K     |████████████████████████████▎   | 3.6 MB 5.2 MB/s eta 0:00:01\r\u001B[K     |████████████████████████████▍   | 3.6 MB 5.2 MB/s eta 0:00:01\r\u001B[K     |████████████████████████████▍   | 3.6 MB 5.2 MB/s eta 0:00:01\r\u001B[K     |████████████████████████████▌   | 3.6 MB 5.2 MB/s eta 0:00:01\r\u001B[K     |████████████████████████████▋   | 3.6 MB 5.2 MB/s eta 0:00:01\r\u001B[K     |████████████████████████████▊   | 3.6 MB 5.2 MB/s eta 0:00:01\r\u001B[K     |████████████████████████████▊   | 3.6 MB 5.2 MB/s eta 0:00:01\r\u001B[K     |████████████████████████████▉   | 3.6 MB 5.2 MB/s eta 0:00:01\r\u001B[K     |█████████████████████████████   | 3.7 MB 5.2 MB/s eta 0:00:01\r\u001B[K     |█████████████████████████████   | 3.7 MB 5.2 MB/s eta 0:00:01\r\u001B[K     |█████████████████████████████   | 3.7 MB 5.2 MB/s eta 0:00:01\r\u001B[K     |█████████████████████████████▏  | 3.7 MB 5.2 MB/s eta 0:00:01\r\u001B[K     |█████████████████████████████▎  | 3.7 MB 5.2 MB/s eta 0:00:01\r\u001B[K     |█████████████████████████████▍  | 3.7 MB 5.2 MB/s eta 0:00:01\r\u001B[K     |█████████████████████████████▍  | 3.7 MB 5.2 MB/s eta 0:00:01\r\u001B[K     |█████████████████████████████▌  | 3.7 MB 5.2 MB/s eta 0:00:01\r\u001B[K     |█████████████████████████████▋  | 3.7 MB 5.2 MB/s eta 0:00:01\r\u001B[K     |█████████████████████████████▋  | 3.7 MB 5.2 MB/s eta 0:00:01\r\u001B[K     |█████████████████████████████▊  | 3.8 MB 5.2 MB/s eta 0:00:01\r\u001B[K     |█████████████████████████████▉  | 3.8 MB 5.2 MB/s eta 0:00:01\r\u001B[K     |██████████████████████████████  | 3.8 MB 5.2 MB/s eta 0:00:01\r\u001B[K     |██████████████████████████████  | 3.8 MB 5.2 MB/s eta 0:00:01\r\u001B[K     |██████████████████████████████  | 3.8 MB 5.2 MB/s eta 0:00:01\r\u001B[K     |██████████████████████████████▏ | 3.8 MB 5.2 MB/s eta 0:00:01\r\u001B[K     |██████████████████████████████▎ | 3.8 MB 5.2 MB/s eta 0:00:01\r\u001B[K     |██████████████████████████████▎ | 3.8 MB 5.2 MB/s eta 0:00:01\r\u001B[K     |██████████████████████████████▍ | 3.8 MB 5.2 MB/s eta 0:00:01\r\u001B[K     |██████████████████████████████▌ | 3.9 MB 5.2 MB/s eta 0:00:01\r\u001B[K     |██████████████████████████████▌ | 3.9 MB 5.2 MB/s eta 0:00:01\r\u001B[K     |██████████████████████████████▋ | 3.9 MB 5.2 MB/s eta 0:00:01\r\u001B[K     |██████████████████████████████▊ | 3.9 MB 5.2 MB/s eta 0:00:01\r\u001B[K     |██████████████████████████████▉ | 3.9 MB 5.2 MB/s eta 0:00:01\r\u001B[K     |██████████████████████████████▉ | 3.9 MB 5.2 MB/s eta 0:00:01\r\u001B[K     |███████████████████████████████ | 3.9 MB 5.2 MB/s eta 0:00:01\r\u001B[K     |███████████████████████████████ | 3.9 MB 5.2 MB/s eta 0:00:01\r\u001B[K     |███████████████████████████████▏| 3.9 MB 5.2 MB/s eta 0:00:01\r\u001B[K     |███████████████████████████████▏| 3.9 MB 5.2 MB/s eta 0:00:01\r\u001B[K     |███████████████████████████████▎| 4.0 MB 5.2 MB/s eta 0:00:01\r\u001B[K     |███████████████████████████████▍| 4.0 MB 5.2 MB/s eta 0:00:01\r\u001B[K     |███████████████████████████████▍| 4.0 MB 5.2 MB/s eta 0:00:01\r\u001B[K     |███████████████████████████████▌| 4.0 MB 5.2 MB/s eta 0:00:01\r\u001B[K     |███████████████████████████████▋| 4.0 MB 5.2 MB/s eta 0:00:01\r\u001B[K     |███████████████████████████████▊| 4.0 MB 5.2 MB/s eta 0:00:01\r\u001B[K     |███████████████████████████████▊| 4.0 MB 5.2 MB/s eta 0:00:01\r\u001B[K     |███████████████████████████████▉| 4.0 MB 5.2 MB/s eta 0:00:01\r\u001B[K     |████████████████████████████████| 4.0 MB 5.2 MB/s eta 0:00:01\r\u001B[K     |████████████████████████████████| 4.0 MB 5.2 MB/s \r\n\u001B[?25hInstalling collected packages: confluent-kafka\r\nSuccessfully installed confluent-kafka-2.4.0\r\n\u001B[33mWARNING: You are using pip version 21.2.4; however, version 24.0 is available.\r\nYou should consider upgrading via the '/local_disk0/.ephemeral_nfs/envs/pythonEnv-45bbdfde-c62c-4317-ba6d-668a0f7c9f0e/bin/python -m pip install --upgrade pip' command.\u001B[0m\r\n"
     ]
    }
   ],
   "source": [
    "!pip install confluent-kafka\n"
   ]
  },
  {
   "cell_type": "code",
   "execution_count": 0,
   "metadata": {
    "application/vnd.databricks.v1+cell": {
     "cellMetadata": {
      "byteLimit": 2048000,
      "rowLimit": 10000
     },
     "inputWidgets": {},
     "nuid": "f2fc4141-77fb-403f-b043-0a43ee2d908a",
     "showTitle": false,
     "title": ""
    }
   },
   "outputs": [],
   "source": [
    "import pyspark.sql.functions as F\n",
    "from  pyspark.sql.functions import col, struct, to_json\n",
    "from pyspark.sql.types import StructField, StructType, StringType, MapType\n",
    "\n",
    "# COMMAND ----------\n",
    "\n",
    "kafkaDF = spark \\\n",
    "    .readStream \\\n",
    "    .format(\"kafka\") \\\n",
    "    .option(\"kafka.bootstrap.servers\", \"abc2.us-west4.gcp.confluent.cloud:9092\") \\\n",
    "      .option(\"subscribe\", \"illegal_dumping\") \\\n",
    "      .option(\"startingOffsets\", \"earliest\") \\\n",
    "      .option(\"kafka.security.protocol\",\"SASL_SSL\") \\\n",
    "      .option(\"kafka.sasl.mechanism\", \"PLAIN\") \\\n",
    "      .option(\"kafka.sasl.jaas.config\", \"\"\"kafkashaded.org.apache.kafka.common.security.plain.PlainLoginModule required username=\"yourusername\" password=\"yourpassword\";\"\"\") \\\n",
    "    .load()\n"
   ]
  },
  {
   "cell_type": "code",
   "execution_count": 0,
   "metadata": {
    "application/vnd.databricks.v1+cell": {
     "cellMetadata": {
      "byteLimit": 2048000,
      "rowLimit": 10000
     },
     "inputWidgets": {},
     "nuid": "cac46fa4-f602-4733-9b04-fdb1ea0ae97f",
     "showTitle": false,
     "title": ""
    }
   },
   "outputs": [],
   "source": [
    "processedDF = kafkaDF.selectExpr(\"CAST(key AS STRING)\", \"CAST(value AS STRING)\")"
   ]
  },
  {
   "cell_type": "code",
   "execution_count": 0,
   "metadata": {
    "application/vnd.databricks.v1+cell": {
     "cellMetadata": {
      "byteLimit": 2048000,
      "rowLimit": 10000
     },
     "inputWidgets": {},
     "nuid": "aad8939f-6ad6-4e17-b568-9f9dd5d985a0",
     "showTitle": false,
     "title": ""
    }
   },
   "outputs": [
    {
     "output_type": "display_data",
     "data": {
      "text/html": [
       "<style scoped>\n",
       "  .table-result-container {\n",
       "    max-height: 300px;\n",
       "    overflow: auto;\n",
       "  }\n",
       "  table, th, td {\n",
       "    border: 1px solid black;\n",
       "    border-collapse: collapse;\n",
       "  }\n",
       "  th, td {\n",
       "    padding: 5px;\n",
       "  }\n",
       "  th {\n",
       "    text-align: left;\n",
       "  }\n",
       "</style><div class='table-result-container'><table class='table-result'><thead style='background-color: white'><tr><th>key</th><th>value</th></tr></thead><tbody><tr><td>key</td><td>{'incident_type': 'Illegal Dumping', 'location': 'Chicago', 'description': 'Illegal dumping of electronic waste in a residential neighborhood, exposing residents to harmful chemicals and heavy metals.', 'contact': ''}</td></tr><tr><td>key</td><td>{'incident_type': 'Illegal Dumping', 'location': 'Boston', 'description': 'Dumping of medical waste, including syringes and pharmaceutical containers, near a riverbank, posing health risks to the community and wildlife', 'contact': ''}</td></tr><tr><td>key</td><td>{'incident_type': 'Illegal Dumping', 'location': 'Houston, Texas', 'description': 'Dumping of medical waste, including syringes and pharmaceutical containers, near a riverbank, posing health risks to the community and wildlife', 'contact': ''}</td></tr><tr><td>key</td><td>{'incident_type': 'Illegal Dumping', 'location': 'Chicago, Illinois', 'description': 'Illegal dumping of electronic waste in a residential neighborhood, exposing residents to harmful chemicals and heavy metals.', 'contact': ''}</td></tr><tr><td>key</td><td>{'incident_type': 'Illegal Dumping', 'location': 'Arlington, Texas', 'description': 'This is an absolute DISASTER! Raw sewage is overflowing into the streets, causing a public health crisis. This is UNACCEPTABLE!', 'contact': ''}</td></tr><tr><td>key</td><td>{'incident_type': 'Illegal Dumping', 'location': 'Colorado', 'description': 'Oversized furniture blocking the sidewalk, making it difficult for pedestrians, especially those with disabilities, to navigate.', 'contact': ''}</td></tr><tr><td>key</td><td>{'incident_type': 'Illegal Dumping', 'location': 'New York', 'description': 'A refrigerator overflowing with rotting food dumped behind a grocery store, attracting pests and spreading a putrid odor.', 'contact': ''}</td></tr><tr><td>key</td><td>{'incident_type': 'Illegal Dumping', 'location': 'New York', 'description': 'Very smell restaurant scraps outside a McDonald's', 'contact': ''}</td></tr><tr><td>key</td><td>{'incident_type': 'Illegal Dumping', 'location': 'New York', 'description': 'Illegal dumping', 'contact': ''}</td></tr><tr><td>key</td><td>{'incident_type': 'Illegal Dumping', 'location': 'New York', 'description': 'Illegal dumping 2', 'contact': ''}</td></tr><tr><td>key</td><td>{'incident_type': 'Illegal Dumping', 'location': 'manchester', 'description': 'smelly house', 'contact': ''}</td></tr><tr><td>key</td><td>{'incident_type': 'Illegal Dumping', 'location': 'xyz', 'description': 'xyz', 'contact': ''}</td></tr><tr><td>key</td><td>{'incident_type': 'Deforestation', 'location': 'xyz', 'description': 'xyz', 'contact': ''}</td></tr><tr><td>key</td><td>{'incident_type': 'Pollution', 'location': 'xyzgjhk', 'description': 'xyzbvjb', 'contact': ''}</td></tr><tr><td>key</td><td>{'incident_type': 'Deforestation', 'location': 'xyzgjhk', 'description': 'xyzbvjb', 'contact': ''}</td></tr><tr><td>key</td><td>{'incident_type': 'Deforestation', 'location': 'Iowa', 'description': 'xyzbvjbndkf', 'contact': ''}</td></tr><tr><td>key</td><td>{'incident_type': 'Deforestation', 'location': 'Iowa', 'description': 'A lot of trees fell off for logging', 'contact': ''}</td></tr></tbody></table></div>"
      ]
     },
     "metadata": {
      "application/vnd.databricks.v1+output": {
       "addedWidgets": {},
       "aggData": [],
       "aggError": "",
       "aggOverflow": false,
       "aggSchema": [],
       "aggSeriesLimitReached": false,
       "aggType": "",
       "arguments": {},
       "columnCustomDisplayInfos": {},
       "data": [
        [
         "key",
         "{'incident_type': 'Illegal Dumping', 'location': 'Chicago', 'description': 'Illegal dumping of electronic waste in a residential neighborhood, exposing residents to harmful chemicals and heavy metals.', 'contact': ''}"
        ],
        [
         "key",
         "{'incident_type': 'Illegal Dumping', 'location': 'Boston', 'description': 'Dumping of medical waste, including syringes and pharmaceutical containers, near a riverbank, posing health risks to the community and wildlife', 'contact': ''}"
        ],
        [
         "key",
         "{'incident_type': 'Illegal Dumping', 'location': 'Houston, Texas', 'description': 'Dumping of medical waste, including syringes and pharmaceutical containers, near a riverbank, posing health risks to the community and wildlife', 'contact': ''}"
        ],
        [
         "key",
         "{'incident_type': 'Illegal Dumping', 'location': 'Chicago, Illinois', 'description': 'Illegal dumping of electronic waste in a residential neighborhood, exposing residents to harmful chemicals and heavy metals.', 'contact': ''}"
        ],
        [
         "key",
         "{'incident_type': 'Illegal Dumping', 'location': 'Arlington, Texas', 'description': 'This is an absolute DISASTER! Raw sewage is overflowing into the streets, causing a public health crisis. This is UNACCEPTABLE!', 'contact': ''}"
        ],
        [
         "key",
         "{'incident_type': 'Illegal Dumping', 'location': 'Colorado', 'description': 'Oversized furniture blocking the sidewalk, making it difficult for pedestrians, especially those with disabilities, to navigate.', 'contact': ''}"
        ],
        [
         "key",
         "{'incident_type': 'Illegal Dumping', 'location': 'New York', 'description': 'A refrigerator overflowing with rotting food dumped behind a grocery store, attracting pests and spreading a putrid odor.', 'contact': ''}"
        ],
        [
         "key",
         "{'incident_type': 'Illegal Dumping', 'location': 'New York', 'description': 'Very smell restaurant scraps outside a McDonald's', 'contact': ''}"
        ],
        [
         "key",
         "{'incident_type': 'Illegal Dumping', 'location': 'New York', 'description': 'Illegal dumping', 'contact': ''}"
        ],
        [
         "key",
         "{'incident_type': 'Illegal Dumping', 'location': 'New York', 'description': 'Illegal dumping 2', 'contact': ''}"
        ],
        [
         "key",
         "{'incident_type': 'Illegal Dumping', 'location': 'manchester', 'description': 'smelly house', 'contact': ''}"
        ],
        [
         "key",
         "{'incident_type': 'Illegal Dumping', 'location': 'xyz', 'description': 'xyz', 'contact': ''}"
        ],
        [
         "key",
         "{'incident_type': 'Deforestation', 'location': 'xyz', 'description': 'xyz', 'contact': ''}"
        ],
        [
         "key",
         "{'incident_type': 'Pollution', 'location': 'xyzgjhk', 'description': 'xyzbvjb', 'contact': ''}"
        ],
        [
         "key",
         "{'incident_type': 'Deforestation', 'location': 'xyzgjhk', 'description': 'xyzbvjb', 'contact': ''}"
        ],
        [
         "key",
         "{'incident_type': 'Deforestation', 'location': 'Iowa', 'description': 'xyzbvjbndkf', 'contact': ''}"
        ],
        [
         "key",
         "{'incident_type': 'Deforestation', 'location': 'Iowa', 'description': 'A lot of trees fell off for logging', 'contact': ''}"
        ]
       ],
       "datasetInfos": [],
       "dbfsResultPath": null,
       "isJsonSchema": true,
       "metadata": {
        "isDbfsCommandResult": false
       },
       "overflow": false,
       "plotOptions": {
        "customPlotOptions": {},
        "displayType": "table",
        "pivotAggregation": null,
        "pivotColumns": null,
        "xColumns": null,
        "yColumns": null
       },
       "removedWidgets": [],
       "schema": [
        {
         "metadata": "{}",
         "name": "key",
         "type": "\"string\""
        },
        {
         "metadata": "{}",
         "name": "value",
         "type": "\"string\""
        }
       ],
       "type": "table"
      }
     },
     "output_type": "display_data"
    }
   ],
   "source": [
    "display(processedDF)"
   ]
  },
  {
   "cell_type": "code",
   "execution_count": 0,
   "metadata": {
    "application/vnd.databricks.v1+cell": {
     "cellMetadata": {
      "byteLimit": 2048000,
      "rowLimit": 10000
     },
     "inputWidgets": {},
     "nuid": "c6626059-a390-474f-a10b-5aab5d189ae9",
     "showTitle": false,
     "title": ""
    }
   },
   "outputs": [
    {
     "output_type": "display_data",
     "data": {
      "text/html": [
       "<style scoped>\n",
       "  .table-result-container {\n",
       "    max-height: 300px;\n",
       "    overflow: auto;\n",
       "  }\n",
       "  table, th, td {\n",
       "    border: 1px solid black;\n",
       "    border-collapse: collapse;\n",
       "  }\n",
       "  th, td {\n",
       "    padding: 5px;\n",
       "  }\n",
       "  th {\n",
       "    text-align: left;\n",
       "  }\n",
       "</style><div class='table-result-container'><table class='table-result'><thead style='background-color: white'><tr><th>incident_type</th><th>location</th><th>description</th></tr></thead><tbody><tr><td>Illegal Dumping</td><td>Chicago</td><td>Illegal dumping of electronic waste in a residential neighborhood, exposing residents to harmful chemicals and heavy metals.</td></tr><tr><td>Illegal Dumping</td><td>Boston</td><td>Dumping of medical waste, including syringes and pharmaceutical containers, near a riverbank, posing health risks to the community and wildlife</td></tr><tr><td>Illegal Dumping</td><td>Houston, Texas</td><td>Dumping of medical waste, including syringes and pharmaceutical containers, near a riverbank, posing health risks to the community and wildlife</td></tr><tr><td>Illegal Dumping</td><td>Chicago, Illinois</td><td>Illegal dumping of electronic waste in a residential neighborhood, exposing residents to harmful chemicals and heavy metals.</td></tr><tr><td>Illegal Dumping</td><td>Arlington, Texas</td><td>This is an absolute DISASTER! Raw sewage is overflowing into the streets, causing a public health crisis. This is UNACCEPTABLE!</td></tr><tr><td>Illegal Dumping</td><td>Colorado</td><td>Oversized furniture blocking the sidewalk, making it difficult for pedestrians, especially those with disabilities, to navigate.</td></tr><tr><td>Illegal Dumping</td><td>New York</td><td>A refrigerator overflowing with rotting food dumped behind a grocery store, attracting pests and spreading a putrid odor.</td></tr><tr><td>null</td><td>null</td><td>null</td></tr><tr><td>Illegal Dumping</td><td>New York</td><td>Illegal dumping</td></tr><tr><td>Illegal Dumping</td><td>New York</td><td>Illegal dumping 2</td></tr><tr><td>Illegal Dumping</td><td>manchester</td><td>smelly house</td></tr><tr><td>Illegal Dumping</td><td>xyz</td><td>xyz</td></tr><tr><td>Deforestation</td><td>xyz</td><td>xyz</td></tr><tr><td>Pollution</td><td>xyzgjhk</td><td>xyzbvjb</td></tr><tr><td>Deforestation</td><td>xyzgjhk</td><td>xyzbvjb</td></tr><tr><td>Deforestation</td><td>Iowa</td><td>xyzbvjbndkf</td></tr><tr><td>Deforestation</td><td>Iowa</td><td>A lot of trees fell off for logging</td></tr></tbody></table></div>"
      ]
     },
     "metadata": {
      "application/vnd.databricks.v1+output": {
       "addedWidgets": {},
       "aggData": [],
       "aggError": "",
       "aggOverflow": false,
       "aggSchema": [],
       "aggSeriesLimitReached": false,
       "aggType": "",
       "arguments": {},
       "columnCustomDisplayInfos": {},
       "data": [
        [
         "Illegal Dumping",
         "Chicago",
         "Illegal dumping of electronic waste in a residential neighborhood, exposing residents to harmful chemicals and heavy metals."
        ],
        [
         "Illegal Dumping",
         "Boston",
         "Dumping of medical waste, including syringes and pharmaceutical containers, near a riverbank, posing health risks to the community and wildlife"
        ],
        [
         "Illegal Dumping",
         "Houston, Texas",
         "Dumping of medical waste, including syringes and pharmaceutical containers, near a riverbank, posing health risks to the community and wildlife"
        ],
        [
         "Illegal Dumping",
         "Chicago, Illinois",
         "Illegal dumping of electronic waste in a residential neighborhood, exposing residents to harmful chemicals and heavy metals."
        ],
        [
         "Illegal Dumping",
         "Arlington, Texas",
         "This is an absolute DISASTER! Raw sewage is overflowing into the streets, causing a public health crisis. This is UNACCEPTABLE!"
        ],
        [
         "Illegal Dumping",
         "Colorado",
         "Oversized furniture blocking the sidewalk, making it difficult for pedestrians, especially those with disabilities, to navigate."
        ],
        [
         "Illegal Dumping",
         "New York",
         "A refrigerator overflowing with rotting food dumped behind a grocery store, attracting pests and spreading a putrid odor."
        ],
        [
         null,
         null,
         null
        ],
        [
         "Illegal Dumping",
         "New York",
         "Illegal dumping"
        ],
        [
         "Illegal Dumping",
         "New York",
         "Illegal dumping 2"
        ],
        [
         "Illegal Dumping",
         "manchester",
         "smelly house"
        ],
        [
         "Illegal Dumping",
         "xyz",
         "xyz"
        ],
        [
         "Deforestation",
         "xyz",
         "xyz"
        ],
        [
         "Pollution",
         "xyzgjhk",
         "xyzbvjb"
        ],
        [
         "Deforestation",
         "xyzgjhk",
         "xyzbvjb"
        ],
        [
         "Deforestation",
         "Iowa",
         "xyzbvjbndkf"
        ],
        [
         "Deforestation",
         "Iowa",
         "A lot of trees fell off for logging"
        ]
       ],
       "datasetInfos": [],
       "dbfsResultPath": null,
       "isJsonSchema": true,
       "metadata": {
        "isDbfsCommandResult": false
       },
       "overflow": false,
       "plotOptions": {
        "customPlotOptions": {},
        "displayType": "table",
        "pivotAggregation": null,
        "pivotColumns": null,
        "xColumns": null,
        "yColumns": null
       },
       "removedWidgets": [],
       "schema": [
        {
         "metadata": "{}",
         "name": "incident_type",
         "type": "\"string\""
        },
        {
         "metadata": "{}",
         "name": "location",
         "type": "\"string\""
        },
        {
         "metadata": "{}",
         "name": "description",
         "type": "\"string\""
        }
       ],
       "type": "table"
      }
     },
     "output_type": "display_data"
    }
   ],
   "source": [
    "import pyspark.sql.functions as F\n",
    "from  pyspark.sql.functions import col, struct, to_json\n",
    "from pyspark.sql.types import StructField, StructType, StringType, MapType\n",
    "\n",
    "json_schema = StructType(\n",
    "  [\n",
    "    StructField(\"incident_type\", StringType(), nullable = False),\n",
    "    StructField(\"location\", StringType(), nullable = False),\n",
    "    StructField(\"description\", StringType(), nullable = True),\n",
    "    StructField(\"contact\", StringType(), nullable = True) \n",
    "  ]\n",
    "  )\n",
    "# COMMAND ----------\n",
    "query=processedDF.withColumn('value', F.from_json(F.col('value').cast('string'), json_schema))  \\\n",
    "      .select(F.col(\"value.incident_type\"),F.col(\"value.location\"),F.col(\"value.description\")) \n",
    "display(query)"
   ]
  },
  {
   "cell_type": "code",
   "execution_count": 0,
   "metadata": {
    "application/vnd.databricks.v1+cell": {
     "cellMetadata": {
      "byteLimit": 2048000,
      "rowLimit": 10000
     },
     "inputWidgets": {},
     "nuid": "5316dd58-3a8f-41f6-a11a-2d240f706c6e",
     "showTitle": false,
     "title": ""
    }
   },
   "outputs": [
    {
     "output_type": "stream",
     "name": "stdout",
     "output_type": "stream",
     "text": [
      "Collecting geopy\r\n  Downloading geopy-2.4.1-py3-none-any.whl (125 kB)\r\n\u001B[?25l\r\u001B[K     |██▋                             | 10 kB 8.0 MB/s eta 0:00:01\r\u001B[K     |█████▎                          | 20 kB 3.7 MB/s eta 0:00:01\r\u001B[K     |███████▉                        | 30 kB 5.3 MB/s eta 0:00:01\r\u001B[K     |██████████▌                     | 40 kB 4.5 MB/s eta 0:00:01\r\u001B[K     |█████████████                   | 51 kB 4.2 MB/s eta 0:00:01\r\u001B[K     |███████████████▊                | 61 kB 5.0 MB/s eta 0:00:01\r\u001B[K     |██████████████████▎             | 71 kB 5.2 MB/s eta 0:00:01\r\u001B[K     |█████████████████████           | 81 kB 5.9 MB/s eta 0:00:01\r\u001B[K     |███████████████████████▌        | 92 kB 5.9 MB/s eta 0:00:01\r\u001B[K     |██████████████████████████▏     | 102 kB 5.0 MB/s eta 0:00:01\r\u001B[K     |████████████████████████████▊   | 112 kB 5.0 MB/s eta 0:00:01\r\u001B[K     |███████████████████████████████▍| 122 kB 5.0 MB/s eta 0:00:01\r\u001B[K     |████████████████████████████████| 125 kB 5.0 MB/s \r\n\u001B[?25hCollecting geographiclib<3,>=1.52\r\n  Downloading geographiclib-2.0-py3-none-any.whl (40 kB)\r\n\u001B[?25l\r\u001B[K     |████████▏                       | 10 kB 35.2 MB/s eta 0:00:01\r\u001B[K     |████████████████▎               | 20 kB 42.1 MB/s eta 0:00:01\r\u001B[K     |████████████████████████▍       | 30 kB 48.6 MB/s eta 0:00:01\r\u001B[K     |████████████████████████████████| 40 kB 8.9 MB/s \r\n\u001B[?25hInstalling collected packages: geographiclib, geopy\r\nSuccessfully installed geographiclib-2.0 geopy-2.4.1\r\n\u001B[33mWARNING: You are using pip version 21.2.4; however, version 24.0 is available.\r\nYou should consider upgrading via the '/local_disk0/.ephemeral_nfs/envs/pythonEnv-45bbdfde-c62c-4317-ba6d-668a0f7c9f0e/bin/python -m pip install --upgrade pip' command.\u001B[0m\r\n"
     ]
    }
   ],
   "source": [
    "!pip install geopy\n"
   ]
  },
  {
   "cell_type": "code",
   "execution_count": 0,
   "metadata": {
    "application/vnd.databricks.v1+cell": {
     "cellMetadata": {
      "byteLimit": 2048000,
      "rowLimit": 10000
     },
     "inputWidgets": {},
     "nuid": "0f7d9dcc-6089-46a1-8812-5eaa69d29e77",
     "showTitle": false,
     "title": ""
    }
   },
   "outputs": [
    {
     "output_type": "display_data",
     "data": {
      "text/html": [
       "<style scoped>\n",
       "  .table-result-container {\n",
       "    max-height: 300px;\n",
       "    overflow: auto;\n",
       "  }\n",
       "  table, th, td {\n",
       "    border: 1px solid black;\n",
       "    border-collapse: collapse;\n",
       "  }\n",
       "  th, td {\n",
       "    padding: 5px;\n",
       "  }\n",
       "  th {\n",
       "    text-align: left;\n",
       "  }\n",
       "</style><div class='table-result-container'><table class='table-result'><thead style='background-color: white'><tr><th>incident_type</th><th>location</th><th>description</th><th>region</th></tr></thead><tbody><tr><td>Illegal Dumping</td><td>Chicago</td><td>Illegal dumping of electronic waste in a residential neighborhood, exposing residents to harmful chemicals and heavy metals.</td><td>Midwest</td></tr><tr><td>Illegal Dumping</td><td>Boston</td><td>Dumping of medical waste, including syringes and pharmaceutical containers, near a riverbank, posing health risks to the community and wildlife</td><td>Northeast</td></tr><tr><td>Illegal Dumping</td><td>Houston, Texas</td><td>Dumping of medical waste, including syringes and pharmaceutical containers, near a riverbank, posing health risks to the community and wildlife</td><td>Southwest</td></tr><tr><td>Illegal Dumping</td><td>Chicago, Illinois</td><td>Illegal dumping of electronic waste in a residential neighborhood, exposing residents to harmful chemicals and heavy metals.</td><td>Midwest</td></tr><tr><td>Illegal Dumping</td><td>Arlington, Texas</td><td>This is an absolute DISASTER! Raw sewage is overflowing into the streets, causing a public health crisis. This is UNACCEPTABLE!</td><td>Southwest</td></tr><tr><td>Illegal Dumping</td><td>Colorado</td><td>Oversized furniture blocking the sidewalk, making it difficult for pedestrians, especially those with disabilities, to navigate.</td><td>West</td></tr><tr><td>Illegal Dumping</td><td>New York</td><td>A refrigerator overflowing with rotting food dumped behind a grocery store, attracting pests and spreading a putrid odor.</td><td>Northeast</td></tr><tr><td>null</td><td>null</td><td>null</td><td>Unknown</td></tr><tr><td>Illegal Dumping</td><td>New York</td><td>Illegal dumping</td><td>Northeast</td></tr><tr><td>Illegal Dumping</td><td>New York</td><td>Illegal dumping 2</td><td>Northeast</td></tr><tr><td>Illegal Dumping</td><td>manchester</td><td>smelly house</td><td>Unknown</td></tr><tr><td>Illegal Dumping</td><td>xyz</td><td>xyz</td><td>Unknown</td></tr><tr><td>Deforestation</td><td>xyz</td><td>xyz</td><td>Unknown</td></tr><tr><td>Pollution</td><td>xyzgjhk</td><td>xyzbvjb</td><td>Unknown</td></tr><tr><td>Deforestation</td><td>xyzgjhk</td><td>xyzbvjb</td><td>Unknown</td></tr><tr><td>Deforestation</td><td>Iowa</td><td>xyzbvjbndkf</td><td>Midwest</td></tr><tr><td>Deforestation</td><td>Iowa</td><td>A lot of trees fell off for logging</td><td>Midwest</td></tr></tbody></table></div>"
      ]
     },
     "metadata": {
      "application/vnd.databricks.v1+output": {
       "addedWidgets": {},
       "aggData": [],
       "aggError": "",
       "aggOverflow": false,
       "aggSchema": [],
       "aggSeriesLimitReached": false,
       "aggType": "",
       "arguments": {},
       "columnCustomDisplayInfos": {},
       "data": [
        [
         "Illegal Dumping",
         "Chicago",
         "Illegal dumping of electronic waste in a residential neighborhood, exposing residents to harmful chemicals and heavy metals.",
         "Midwest"
        ],
        [
         "Illegal Dumping",
         "Boston",
         "Dumping of medical waste, including syringes and pharmaceutical containers, near a riverbank, posing health risks to the community and wildlife",
         "Northeast"
        ],
        [
         "Illegal Dumping",
         "Houston, Texas",
         "Dumping of medical waste, including syringes and pharmaceutical containers, near a riverbank, posing health risks to the community and wildlife",
         "Southwest"
        ],
        [
         "Illegal Dumping",
         "Chicago, Illinois",
         "Illegal dumping of electronic waste in a residential neighborhood, exposing residents to harmful chemicals and heavy metals.",
         "Midwest"
        ],
        [
         "Illegal Dumping",
         "Arlington, Texas",
         "This is an absolute DISASTER! Raw sewage is overflowing into the streets, causing a public health crisis. This is UNACCEPTABLE!",
         "Southwest"
        ],
        [
         "Illegal Dumping",
         "Colorado",
         "Oversized furniture blocking the sidewalk, making it difficult for pedestrians, especially those with disabilities, to navigate.",
         "West"
        ],
        [
         "Illegal Dumping",
         "New York",
         "A refrigerator overflowing with rotting food dumped behind a grocery store, attracting pests and spreading a putrid odor.",
         "Northeast"
        ],
        [
         null,
         null,
         null,
         "Unknown"
        ],
        [
         "Illegal Dumping",
         "New York",
         "Illegal dumping",
         "Northeast"
        ],
        [
         "Illegal Dumping",
         "New York",
         "Illegal dumping 2",
         "Northeast"
        ],
        [
         "Illegal Dumping",
         "manchester",
         "smelly house",
         "Unknown"
        ],
        [
         "Illegal Dumping",
         "xyz",
         "xyz",
         "Unknown"
        ],
        [
         "Deforestation",
         "xyz",
         "xyz",
         "Unknown"
        ],
        [
         "Pollution",
         "xyzgjhk",
         "xyzbvjb",
         "Unknown"
        ],
        [
         "Deforestation",
         "xyzgjhk",
         "xyzbvjb",
         "Unknown"
        ],
        [
         "Deforestation",
         "Iowa",
         "xyzbvjbndkf",
         "Midwest"
        ],
        [
         "Deforestation",
         "Iowa",
         "A lot of trees fell off for logging",
         "Midwest"
        ]
       ],
       "datasetInfos": [],
       "dbfsResultPath": null,
       "isJsonSchema": true,
       "metadata": {
        "isDbfsCommandResult": false
       },
       "overflow": false,
       "plotOptions": {
        "customPlotOptions": {},
        "displayType": "table",
        "pivotAggregation": null,
        "pivotColumns": null,
        "xColumns": null,
        "yColumns": null
       },
       "removedWidgets": [],
       "schema": [
        {
         "metadata": "{}",
         "name": "incident_type",
         "type": "\"string\""
        },
        {
         "metadata": "{}",
         "name": "location",
         "type": "\"string\""
        },
        {
         "metadata": "{}",
         "name": "description",
         "type": "\"string\""
        },
        {
         "metadata": "{}",
         "name": "region",
         "type": "\"string\""
        }
       ],
       "type": "table"
      }
     },
     "output_type": "display_data"
    }
   ],
   "source": [
    "from pyspark.sql.functions import udf\n",
    "from pyspark.sql.types import StringType\n",
    "\n",
    "# Define the regions_to_states dictionary\n",
    "regions_to_states = {\n",
    "    'South': ['West Virginia', 'District of Columbia', 'Maryland', 'Virginia',\n",
    "              'Kentucky', 'Tennessee', 'North Carolina', 'Mississippi',\n",
    "              'Arkansas', 'Louisiana', 'Alabama', 'Georgia', 'South Carolina',\n",
    "              'Florida', 'Delaware'],\n",
    "    'Southwest': ['Arizona', 'New Mexico', 'Oklahoma', 'Texas'],\n",
    "    'West': ['Washington', 'Oregon', 'California', 'Nevada', 'Idaho', 'Montana',\n",
    "             'Wyoming', 'Utah', 'Colorado', 'Alaska', 'Hawaii'],\n",
    "    'Midwest': ['North Dakota', 'South Dakota', 'Nebraska', 'Kansas', 'Minnesota',\n",
    "                'Iowa', 'Missouri', 'Wisconsin', 'Illinois', 'Michigan', 'Indiana',\n",
    "                'Ohio'],\n",
    "    'Northeast': ['Maine', 'Vermont', 'New York', 'New Hampshire', 'Massachusetts',\n",
    "                  'Rhode Island', 'Connecticut', 'New Jersey', 'Pennsylvania']\n",
    "}\n",
    "\n",
    "#from geotext import GeoText\n",
    "from geopy.geocoders import Nominatim\n",
    "\n",
    "# Initialize a Nominatim geocoder\n",
    "#geolocator = Nominatim(user_agent=\"my_application\")\n",
    "\n",
    "# Define a UDF to extract state names from location text\n",
    "\n",
    "def extract_state(location_text):\n",
    "    geolocator = Nominatim(user_agent=\"my_application\")\n",
    "    location = geolocator.geocode(location_text)\n",
    "    #print(location)\n",
    "    #print(type(location.raw))\n",
    "    if location:\n",
    "        state = location.raw['display_name'].split(',')[-2]\n",
    "        return state\n",
    "    else:\n",
    "        return \"Unknown\"\n",
    "    \n",
    "# Create a UDF to map states to regions\n",
    "@udf(StringType())\n",
    "def map_state_to_region(location):\n",
    "    state = extract_state(location).strip()\n",
    "    for region, states in regions_to_states.items():\n",
    "        if state in states:\n",
    "            return region\n",
    "    return \"Unknown\"  # Return \"Unknown\" for states not found in the dictionary\n",
    "\n",
    "# Apply the UDF to map states to regions\n",
    "df_with_region = query.withColumn(\"region\", map_state_to_region(query[\"location\"]))\n",
    "\n",
    "display(df_with_region)\n"
   ]
  },
  {
   "cell_type": "code",
   "execution_count": 0,
   "metadata": {
    "application/vnd.databricks.v1+cell": {
     "cellMetadata": {
      "byteLimit": 2048000,
      "rowLimit": 10000
     },
     "inputWidgets": {},
     "nuid": "1acc2ab1-995b-4728-8ef4-abafbf11f0c2",
     "showTitle": false,
     "title": ""
    }
   },
   "outputs": [
    {
     "output_type": "stream",
     "name": "stdout",
     "output_type": "stream",
     "text": [
      "Collecting vaderSentiment\r\n  Downloading vaderSentiment-3.3.2-py2.py3-none-any.whl (125 kB)\r\n\u001B[?25l\r\u001B[K     |██▋                             | 10 kB 16.3 MB/s eta 0:00:01\r\u001B[K     |█████▏                          | 20 kB 11.9 MB/s eta 0:00:01\r\u001B[K     |███████▉                        | 30 kB 6.9 MB/s eta 0:00:01\r\u001B[K     |██████████▍                     | 40 kB 4.9 MB/s eta 0:00:01\r\u001B[K     |█████████████                   | 51 kB 5.3 MB/s eta 0:00:01\r\u001B[K     |███████████████▋                | 61 kB 5.7 MB/s eta 0:00:01\r\u001B[K     |██████████████████▏             | 71 kB 5.6 MB/s eta 0:00:01\r\u001B[K     |████████████████████▉           | 81 kB 5.8 MB/s eta 0:00:01\r\u001B[K     |███████████████████████▍        | 92 kB 6.5 MB/s eta 0:00:01\r\u001B[K     |██████████████████████████      | 102 kB 5.7 MB/s eta 0:00:01\r\u001B[K     |████████████████████████████▋   | 112 kB 5.7 MB/s eta 0:00:01\r\u001B[K     |███████████████████████████████▏| 122 kB 5.7 MB/s eta 0:00:01\r\u001B[K     |████████████████████████████████| 125 kB 5.7 MB/s \r\n\u001B[?25hRequirement already satisfied: requests in /databricks/python3/lib/python3.9/site-packages (from vaderSentiment) (2.27.1)\r\nRequirement already satisfied: idna<4,>=2.5 in /databricks/python3/lib/python3.9/site-packages (from requests->vaderSentiment) (3.3)\r\nRequirement already satisfied: charset-normalizer~=2.0.0 in /databricks/python3/lib/python3.9/site-packages (from requests->vaderSentiment) (2.0.4)\r\nRequirement already satisfied: urllib3<1.27,>=1.21.1 in /databricks/python3/lib/python3.9/site-packages (from requests->vaderSentiment) (1.26.9)\r\nRequirement already satisfied: certifi>=2017.4.17 in /databricks/python3/lib/python3.9/site-packages (from requests->vaderSentiment) (2021.10.8)\r\nInstalling collected packages: vaderSentiment\r\nSuccessfully installed vaderSentiment-3.3.2\r\n\u001B[33mWARNING: You are using pip version 21.2.4; however, version 24.0 is available.\r\nYou should consider upgrading via the '/local_disk0/.ephemeral_nfs/envs/pythonEnv-45bbdfde-c62c-4317-ba6d-668a0f7c9f0e/bin/python -m pip install --upgrade pip' command.\u001B[0m\r\n"
     ]
    }
   ],
   "source": [
    "!pip install vaderSentiment"
   ]
  },
  {
   "cell_type": "code",
   "execution_count": 0,
   "metadata": {
    "application/vnd.databricks.v1+cell": {
     "cellMetadata": {
      "byteLimit": 2048000,
      "rowLimit": 10000
     },
     "inputWidgets": {},
     "nuid": "f9c6dff2-95f4-42dd-bf0f-fb1e5f42dbc7",
     "showTitle": false,
     "title": ""
    }
   },
   "outputs": [
    {
     "output_type": "display_data",
     "data": {
      "text/html": [
       "<style scoped>\n",
       "  .table-result-container {\n",
       "    max-height: 300px;\n",
       "    overflow: auto;\n",
       "  }\n",
       "  table, th, td {\n",
       "    border: 1px solid black;\n",
       "    border-collapse: collapse;\n",
       "  }\n",
       "  th, td {\n",
       "    padding: 5px;\n",
       "  }\n",
       "  th {\n",
       "    text-align: left;\n",
       "  }\n",
       "</style><div class='table-result-container'><table class='table-result'><thead style='background-color: white'><tr><th>incident_type</th><th>location</th><th>description</th><th>severity</th></tr></thead><tbody><tr><td>Illegal Dumping</td><td>Chicago</td><td>Illegal dumping of electronic waste in a residential neighborhood, exposing residents to harmful chemicals and heavy metals.</td><td>High</td></tr><tr><td>Illegal Dumping</td><td>Boston</td><td>Dumping of medical waste, including syringes and pharmaceutical containers, near a riverbank, posing health risks to the community and wildlife</td><td>Medium</td></tr><tr><td>Illegal Dumping</td><td>Houston, Texas</td><td>Dumping of medical waste, including syringes and pharmaceutical containers, near a riverbank, posing health risks to the community and wildlife</td><td>Medium</td></tr><tr><td>Illegal Dumping</td><td>Chicago, Illinois</td><td>Illegal dumping of electronic waste in a residential neighborhood, exposing residents to harmful chemicals and heavy metals.</td><td>High</td></tr><tr><td>Illegal Dumping</td><td>Arlington, Texas</td><td>This is an absolute DISASTER! Raw sewage is overflowing into the streets, causing a public health crisis. This is UNACCEPTABLE!</td><td>High</td></tr><tr><td>Illegal Dumping</td><td>Colorado</td><td>Oversized furniture blocking the sidewalk, making it difficult for pedestrians, especially those with disabilities, to navigate.</td><td>Medium</td></tr><tr><td>Illegal Dumping</td><td>New York</td><td>A refrigerator overflowing with rotting food dumped behind a grocery store, attracting pests and spreading a putrid odor.</td><td>Low</td></tr><tr><td>null</td><td>null</td><td>null</td><td>Low</td></tr><tr><td>Illegal Dumping</td><td>New York</td><td>Illegal dumping</td><td>High</td></tr><tr><td>Illegal Dumping</td><td>New York</td><td>Illegal dumping 2</td><td>High</td></tr><tr><td>Illegal Dumping</td><td>manchester</td><td>smelly house</td><td>Low</td></tr><tr><td>Illegal Dumping</td><td>xyz</td><td>xyz</td><td>Low</td></tr><tr><td>Deforestation</td><td>xyz</td><td>xyz</td><td>Low</td></tr><tr><td>Pollution</td><td>xyzgjhk</td><td>xyzbvjb</td><td>Low</td></tr><tr><td>Deforestation</td><td>xyzgjhk</td><td>xyzbvjb</td><td>Low</td></tr><tr><td>Deforestation</td><td>Iowa</td><td>xyzbvjbndkf</td><td>Low</td></tr><tr><td>Deforestation</td><td>Iowa</td><td>A lot of trees fell off for logging</td><td>Low</td></tr></tbody></table></div>"
      ]
     },
     "metadata": {
      "application/vnd.databricks.v1+output": {
       "addedWidgets": {},
       "aggData": [],
       "aggError": "",
       "aggOverflow": false,
       "aggSchema": [],
       "aggSeriesLimitReached": false,
       "aggType": "",
       "arguments": {},
       "columnCustomDisplayInfos": {},
       "data": [
        [
         "Illegal Dumping",
         "Chicago",
         "Illegal dumping of electronic waste in a residential neighborhood, exposing residents to harmful chemicals and heavy metals.",
         "High"
        ],
        [
         "Illegal Dumping",
         "Boston",
         "Dumping of medical waste, including syringes and pharmaceutical containers, near a riverbank, posing health risks to the community and wildlife",
         "Medium"
        ],
        [
         "Illegal Dumping",
         "Houston, Texas",
         "Dumping of medical waste, including syringes and pharmaceutical containers, near a riverbank, posing health risks to the community and wildlife",
         "Medium"
        ],
        [
         "Illegal Dumping",
         "Chicago, Illinois",
         "Illegal dumping of electronic waste in a residential neighborhood, exposing residents to harmful chemicals and heavy metals.",
         "High"
        ],
        [
         "Illegal Dumping",
         "Arlington, Texas",
         "This is an absolute DISASTER! Raw sewage is overflowing into the streets, causing a public health crisis. This is UNACCEPTABLE!",
         "High"
        ],
        [
         "Illegal Dumping",
         "Colorado",
         "Oversized furniture blocking the sidewalk, making it difficult for pedestrians, especially those with disabilities, to navigate.",
         "Medium"
        ],
        [
         "Illegal Dumping",
         "New York",
         "A refrigerator overflowing with rotting food dumped behind a grocery store, attracting pests and spreading a putrid odor.",
         "Low"
        ],
        [
         null,
         null,
         null,
         "Low"
        ],
        [
         "Illegal Dumping",
         "New York",
         "Illegal dumping",
         "High"
        ],
        [
         "Illegal Dumping",
         "New York",
         "Illegal dumping 2",
         "High"
        ],
        [
         "Illegal Dumping",
         "manchester",
         "smelly house",
         "Low"
        ],
        [
         "Illegal Dumping",
         "xyz",
         "xyz",
         "Low"
        ],
        [
         "Deforestation",
         "xyz",
         "xyz",
         "Low"
        ],
        [
         "Pollution",
         "xyzgjhk",
         "xyzbvjb",
         "Low"
        ],
        [
         "Deforestation",
         "xyzgjhk",
         "xyzbvjb",
         "Low"
        ],
        [
         "Deforestation",
         "Iowa",
         "xyzbvjbndkf",
         "Low"
        ],
        [
         "Deforestation",
         "Iowa",
         "A lot of trees fell off for logging",
         "Low"
        ]
       ],
       "datasetInfos": [],
       "dbfsResultPath": null,
       "isJsonSchema": true,
       "metadata": {
        "isDbfsCommandResult": false
       },
       "overflow": false,
       "plotOptions": {
        "customPlotOptions": {},
        "displayType": "table",
        "pivotAggregation": null,
        "pivotColumns": null,
        "xColumns": null,
        "yColumns": null
       },
       "removedWidgets": [],
       "schema": [
        {
         "metadata": "{}",
         "name": "incident_type",
         "type": "\"string\""
        },
        {
         "metadata": "{}",
         "name": "location",
         "type": "\"string\""
        },
        {
         "metadata": "{}",
         "name": "description",
         "type": "\"string\""
        },
        {
         "metadata": "{}",
         "name": "severity",
         "type": "\"string\""
        }
       ],
       "type": "table"
      }
     },
     "output_type": "display_data"
    }
   ],
   "source": [
    "from pyspark.sql.functions import udf\n",
    "from pyspark.sql.types import StringType\n",
    "from vaderSentiment.vaderSentiment import SentimentIntensityAnalyzer\n",
    "\n",
    "# Initialize the VADER sentiment analyzer\n",
    "analyzer = SentimentIntensityAnalyzer()\n",
    "\n",
    "# Define a function to perform sentiment analysis on the description text\n",
    "def analyze_sentiment(description):\n",
    "    # Get the compound sentiment score from VADER\n",
    "    if not description:\n",
    "        description = \"hi\"\n",
    "    sentiment_score = analyzer.polarity_scores(description)\n",
    "    print(sentiment_score)\n",
    "    sentiment_score_neg = sentiment_score['neg']\n",
    "    \n",
    "    # Categorize the severity based on the sentiment score\n",
    "    if sentiment_score_neg >= 0.4:\n",
    "        return \"High\"\n",
    "    elif sentiment_score_neg >= 0.2 and sentiment_score_neg < 0.4:\n",
    "        return \"Medium\"\n",
    "    else:\n",
    "        return \"Low\"\n",
    "\n",
    "# Create a UDF for sentiment analysis\n",
    "sentiment_udf = udf(analyze_sentiment, StringType())\n",
    "\n",
    "# Apply the UDF to the description column of the processed DataFrame (processedDF)\n",
    "# Replace \"processedDF\" and \"description_column\" with your actual DataFrame and column name\n",
    "processedDF_with_severity = query.withColumn(\"severity\", sentiment_udf(\"description\"))\n",
    "\n",
    "# Show the DataFrame with the added severity column\n",
    "display(processedDF_with_severity)"
   ]
  },
  {
   "cell_type": "code",
   "execution_count": 0,
   "metadata": {
    "application/vnd.databricks.v1+cell": {
     "cellMetadata": {
      "byteLimit": 2048000,
      "rowLimit": 10000
     },
     "inputWidgets": {},
     "nuid": "989169db-91b8-4e9c-9e11-8f3d285f0ebd",
     "showTitle": false,
     "title": ""
    }
   },
   "outputs": [
    {
     "output_type": "display_data",
     "data": {
      "text/html": [
       "<style scoped>\n",
       "  .table-result-container {\n",
       "    max-height: 300px;\n",
       "    overflow: auto;\n",
       "  }\n",
       "  table, th, td {\n",
       "    border: 1px solid black;\n",
       "    border-collapse: collapse;\n",
       "  }\n",
       "  th, td {\n",
       "    padding: 5px;\n",
       "  }\n",
       "  th {\n",
       "    text-align: left;\n",
       "  }\n",
       "</style><div class='table-result-container'><table class='table-result'><thead style='background-color: white'><tr><th>incident_type</th><th>severity</th><th>severity_incidents</th></tr></thead><tbody><tr><td>Illegal Dumping</td><td>Low</td><td>1</td></tr><tr><td>Illegal Dumping</td><td>High</td><td>3</td></tr><tr><td>Illegal Dumping</td><td>Medium</td><td>3</td></tr></tbody></table></div>"
      ]
     },
     "metadata": {
      "application/vnd.databricks.v1+output": {
       "addedWidgets": {},
       "aggData": [],
       "aggError": "",
       "aggOverflow": false,
       "aggSchema": [],
       "aggSeriesLimitReached": false,
       "aggType": "",
       "arguments": {},
       "columnCustomDisplayInfos": {},
       "data": [
        [
         "Illegal Dumping",
         "Low",
         1
        ],
        [
         "Illegal Dumping",
         "High",
         3
        ],
        [
         "Illegal Dumping",
         "Medium",
         3
        ]
       ],
       "datasetInfos": [],
       "dbfsResultPath": null,
       "isJsonSchema": true,
       "metadata": {
        "isDbfsCommandResult": false
       },
       "overflow": false,
       "plotOptions": {
        "customPlotOptions": {},
        "displayType": "table",
        "pivotAggregation": null,
        "pivotColumns": null,
        "xColumns": null,
        "yColumns": null
       },
       "removedWidgets": [],
       "schema": [
        {
         "metadata": "{}",
         "name": "incident_type",
         "type": "\"string\""
        },
        {
         "metadata": "{}",
         "name": "severity",
         "type": "\"string\""
        },
        {
         "metadata": "{}",
         "name": "severity_incidents",
         "type": "\"long\""
        }
       ],
       "type": "table"
      }
     },
     "output_type": "display_data"
    }
   ],
   "source": [
    "# Register the streaming DataFrame as a temporary view\n",
    "processedDF_with_severity.createOrReplaceTempView(\"incident_reports\")\n",
    "\n",
    "# Define SQL queries for aggregations\n",
    "total_incidents_query = \"\"\"\n",
    "    SELECT \n",
    "        incident_type,\n",
    "        COUNT(*) AS total_incidents\n",
    "    FROM \n",
    "        incident_reports\n",
    "    GROUP BY \n",
    "        incident_type\n",
    "\"\"\"\n",
    "\n",
    "severity_incidents_query = \"\"\"\n",
    "    SELECT \n",
    "        incident_type,\n",
    "        severity,\n",
    "        COUNT(*) AS severity_incidents\n",
    "    FROM \n",
    "        incident_reports\n",
    "    GROUP BY \n",
    "        incident_type, severity\n",
    "\"\"\"\n",
    "\n",
    "# Perform aggregations\n",
    "total_incidents_df = spark.sql(total_incidents_query)\n",
    "severity_incidents_df = spark.sql(severity_incidents_query)\n",
    "\n",
    "display(severity_incidents_df)\n",
    "\n",
    "# Join the aggregations\n",
    "#joined_df = total_incidents_df.join(severity_incidents_df, on='incident_type', how='left')\n",
    "\n",
    "# Calculate severity percentage\n",
    "#severity_percentage_df = joined_df.withColumn(\"severity_percentage\", \n",
    "                                              #(joined_df[\"severity_incidents\"] / joined_df[\"total_incidents\"]) * 100)\n",
    "\n",
    "#display(severity_percentage_df)\n",
    "\n",
    "# Start the streaming query to output the results\n",
    "#query = severity_percentage_df.writeStream \\\n",
    " #   .outputMode(\"append\") \\\n",
    "   # .format(\"console\") \\\n",
    "    #.start()\n",
    "\n",
    "# Await termination\n",
    "#query.awaitTermination()"
   ]
  },
  {
   "cell_type": "code",
   "execution_count": 0,
   "metadata": {
    "application/vnd.databricks.v1+cell": {
     "cellMetadata": {
      "byteLimit": 2048000,
      "rowLimit": 10000
     },
     "inputWidgets": {},
     "nuid": "c2c373d8-87e7-4648-8f16-b0f7f749068a",
     "showTitle": false,
     "title": ""
    }
   },
   "outputs": [
    {
     "output_type": "display_data",
     "data": {
      "text/html": [
       "<style scoped>\n",
       "  .table-result-container {\n",
       "    max-height: 300px;\n",
       "    overflow: auto;\n",
       "  }\n",
       "  table, th, td {\n",
       "    border: 1px solid black;\n",
       "    border-collapse: collapse;\n",
       "  }\n",
       "  th, td {\n",
       "    padding: 5px;\n",
       "  }\n",
       "  th {\n",
       "    text-align: left;\n",
       "  }\n",
       "</style><div class='table-result-container'><table class='table-result'><thead style='background-color: white'><tr><th>severity</th><th>count</th></tr></thead><tbody><tr><td>High</td><td>3</td></tr><tr><td>Low</td><td>1</td></tr><tr><td>Medium</td><td>3</td></tr></tbody></table></div>"
      ]
     },
     "metadata": {
      "application/vnd.databricks.v1+output": {
       "addedWidgets": {},
       "aggData": [],
       "aggError": "",
       "aggOverflow": false,
       "aggSchema": [],
       "aggSeriesLimitReached": false,
       "aggType": "",
       "arguments": {},
       "columnCustomDisplayInfos": {},
       "data": [
        [
         "High",
         3
        ],
        [
         "Low",
         1
        ],
        [
         "Medium",
         3
        ]
       ],
       "datasetInfos": [],
       "dbfsResultPath": null,
       "isJsonSchema": true,
       "metadata": {
        "isDbfsCommandResult": false
       },
       "overflow": false,
       "plotOptions": {
        "customPlotOptions": {},
        "displayType": "table",
        "pivotAggregation": null,
        "pivotColumns": null,
        "xColumns": null,
        "yColumns": null
       },
       "removedWidgets": [],
       "schema": [
        {
         "metadata": "{}",
         "name": "severity",
         "type": "\"string\""
        },
        {
         "metadata": "{}",
         "name": "count",
         "type": "\"long\""
        }
       ],
       "type": "table"
      }
     },
     "output_type": "display_data"
    }
   ],
   "source": [
    "# Count the number of incidents in each severity level\n",
    "severity_counts = processedDF_with_severity.groupBy(\"severity\").count()\n",
    "display(severity_counts)"
   ]
  },
  {
   "cell_type": "code",
   "execution_count": 0,
   "metadata": {
    "application/vnd.databricks.v1+cell": {
     "cellMetadata": {
      "byteLimit": 2048000,
      "rowLimit": 10000
     },
     "inputWidgets": {},
     "nuid": "52bc53de-f2bc-4d1b-b8ce-60f67de02499",
     "showTitle": false,
     "title": ""
    }
   },
   "outputs": [
    {
     "output_type": "display_data",
     "data": {
      "text/html": [
       "<style scoped>\n",
       "  .table-result-container {\n",
       "    max-height: 300px;\n",
       "    overflow: auto;\n",
       "  }\n",
       "  table, th, td {\n",
       "    border: 1px solid black;\n",
       "    border-collapse: collapse;\n",
       "  }\n",
       "  th, td {\n",
       "    padding: 5px;\n",
       "  }\n",
       "  th {\n",
       "    text-align: left;\n",
       "  }\n",
       "</style><div class='table-result-container'><table class='table-result'><thead style='background-color: white'><tr><th>severity</th><th>location</th><th>count</th></tr></thead><tbody><tr><td>Medium</td><td>Colorado</td><td>1</td></tr><tr><td>Medium</td><td>Boston</td><td>1</td></tr><tr><td>Medium</td><td>Houston, Texas</td><td>1</td></tr><tr><td>Low</td><td>New York</td><td>1</td></tr><tr><td>High</td><td>Chicago, Illinois</td><td>1</td></tr><tr><td>High</td><td>Arlington, Texas</td><td>1</td></tr><tr><td>High</td><td>Chicago</td><td>1</td></tr></tbody></table></div>"
      ]
     },
     "metadata": {
      "application/vnd.databricks.v1+output": {
       "addedWidgets": {},
       "aggData": [],
       "aggError": "",
       "aggOverflow": false,
       "aggSchema": [],
       "aggSeriesLimitReached": false,
       "aggType": "",
       "arguments": {},
       "columnCustomDisplayInfos": {},
       "data": [
        [
         "Medium",
         "Colorado",
         1
        ],
        [
         "Medium",
         "Boston",
         1
        ],
        [
         "Medium",
         "Houston, Texas",
         1
        ],
        [
         "Low",
         "New York",
         1
        ],
        [
         "High",
         "Chicago, Illinois",
         1
        ],
        [
         "High",
         "Arlington, Texas",
         1
        ],
        [
         "High",
         "Chicago",
         1
        ]
       ],
       "datasetInfos": [],
       "dbfsResultPath": null,
       "isJsonSchema": true,
       "metadata": {
        "isDbfsCommandResult": false
       },
       "overflow": false,
       "plotOptions": {
        "customPlotOptions": {},
        "displayType": "table",
        "pivotAggregation": null,
        "pivotColumns": null,
        "xColumns": null,
        "yColumns": null
       },
       "removedWidgets": [],
       "schema": [
        {
         "metadata": "{}",
         "name": "severity",
         "type": "\"string\""
        },
        {
         "metadata": "{}",
         "name": "location",
         "type": "\"string\""
        },
        {
         "metadata": "{}",
         "name": "count",
         "type": "\"long\""
        }
       ],
       "type": "table"
      }
     },
     "output_type": "display_data"
    }
   ],
   "source": [
    "# Find the most common locations for illegal dumping of each severity level\n",
    "severity_locations = processedDF_with_severity.groupBy(\"severity\", \"location\").count().orderBy(\"severity\", \"count\", ascending=False)\n",
    "display(severity_locations)"
   ]
  },
  {
   "cell_type": "code",
   "execution_count": 0,
   "metadata": {
    "application/vnd.databricks.v1+cell": {
     "cellMetadata": {
      "byteLimit": 2048000,
      "rowLimit": 10000
     },
     "inputWidgets": {},
     "nuid": "57266ee4-4456-43c4-bc1d-2347e0478e99",
     "showTitle": false,
     "title": ""
    }
   },
   "outputs": [],
   "source": [
    "# Define the path where you'll store the streaming data in Delta Lake\n",
    "delta_table_path = \"`result_delta_table`\"\n",
    "\n",
    "# Set a checkpoint location for the streaming query\n",
    "checkpoint_location = \"/FileStore/tables/checkpoints\"\n",
    "\n",
    "# Define a trigger to process micro-batches of data every 10 seconds\n",
    "trigger = \"processing=30 seconds\"  # 10 seconds in milliseconds\n",
    "\n",
    "# Start the streaming query with checkpointing and trigger\n",
    "streaming_query = processedDF_with_severity.writeStream\\\n",
    "  .outputMode(\"append\")\\\n",
    "  .option(\"checkpointLocation\", checkpoint_location)\\\n",
    "  .trigger(processingTime='10 seconds')\\\n",
    "  .format(\"delta\")\\\n",
    "  .toTable(delta_table_path)\n"
   ]
  },
  {
   "cell_type": "code",
   "execution_count": 0,
   "metadata": {
    "application/vnd.databricks.v1+cell": {
     "cellMetadata": {
      "byteLimit": 2048000,
      "rowLimit": 10000
     },
     "inputWidgets": {},
     "nuid": "96eb5c45-7c0e-4c9b-8731-224ecc902af7",
     "showTitle": false,
     "title": ""
    }
   },
   "outputs": [
    {
     "output_type": "display_data",
     "data": {
      "text/html": [
       "<style scoped>\n",
       "  .table-result-container {\n",
       "    max-height: 300px;\n",
       "    overflow: auto;\n",
       "  }\n",
       "  table, th, td {\n",
       "    border: 1px solid black;\n",
       "    border-collapse: collapse;\n",
       "  }\n",
       "  th, td {\n",
       "    padding: 5px;\n",
       "  }\n",
       "  th {\n",
       "    text-align: left;\n",
       "  }\n",
       "</style><div class='table-result-container'><table class='table-result'><thead style='background-color: white'><tr><th>incident_type</th><th>location</th><th>description</th><th>severity</th></tr></thead><tbody><tr><td>Deforestation</td><td>Iowa</td><td>A lot of trees fell off for logging</td><td>Low</td></tr><tr><td>Deforestation</td><td>Iowa</td><td>xyzbvjbndkf</td><td>Low</td></tr></tbody></table></div>"
      ]
     },
     "metadata": {
      "application/vnd.databricks.v1+output": {
       "addedWidgets": {},
       "aggData": [],
       "aggError": "",
       "aggOverflow": false,
       "aggSchema": [],
       "aggSeriesLimitReached": false,
       "aggType": "",
       "arguments": {},
       "columnCustomDisplayInfos": {},
       "data": [
        [
         "Deforestation",
         "Iowa",
         "A lot of trees fell off for logging",
         "Low"
        ],
        [
         "Deforestation",
         "Iowa",
         "xyzbvjbndkf",
         "Low"
        ]
       ],
       "datasetInfos": [],
       "dbfsResultPath": null,
       "isJsonSchema": true,
       "metadata": {
        "isDbfsCommandResult": false
       },
       "overflow": false,
       "plotOptions": {
        "customPlotOptions": {},
        "displayType": "table",
        "pivotAggregation": null,
        "pivotColumns": null,
        "xColumns": null,
        "yColumns": null
       },
       "removedWidgets": [],
       "schema": [
        {
         "metadata": "{}",
         "name": "incident_type",
         "type": "\"string\""
        },
        {
         "metadata": "{}",
         "name": "location",
         "type": "\"string\""
        },
        {
         "metadata": "{}",
         "name": "description",
         "type": "\"string\""
        },
        {
         "metadata": "{}",
         "name": "severity",
         "type": "\"string\""
        }
       ],
       "type": "table"
      }
     },
     "output_type": "display_data"
    }
   ],
   "source": [
    "deltaDF = spark.readStream.table(\"result_delta_table\")\n",
    "display(deltaDF)"
   ]
  },
  {
   "cell_type": "code",
   "execution_count": 0,
   "metadata": {
    "application/vnd.databricks.v1+cell": {
     "cellMetadata": {
      "byteLimit": 2048000,
      "implicitDf": true,
      "rowLimit": 10000
     },
     "inputWidgets": {},
     "nuid": "902ced0e-89ba-41e0-b1b3-8b40a6285c07",
     "showTitle": false,
     "title": ""
    }
   },
   "outputs": [
    {
     "output_type": "display_data",
     "data": {
      "text/html": [
       "<style scoped>\n",
       "  .table-result-container {\n",
       "    max-height: 300px;\n",
       "    overflow: auto;\n",
       "  }\n",
       "  table, th, td {\n",
       "    border: 1px solid black;\n",
       "    border-collapse: collapse;\n",
       "  }\n",
       "  th, td {\n",
       "    padding: 5px;\n",
       "  }\n",
       "  th {\n",
       "    text-align: left;\n",
       "  }\n",
       "</style><div class='table-result-container'><table class='table-result'><thead style='background-color: white'><tr><th>incident_type</th><th>location</th><th>description</th><th>severity</th></tr></thead><tbody><tr><td>Deforestation</td><td>Iowa</td><td>A lot of trees fell off for logging</td><td>Low</td></tr><tr><td>Deforestation</td><td>Iowa</td><td>xyzbvjbndkf</td><td>Low</td></tr></tbody></table></div>"
      ]
     },
     "metadata": {
      "application/vnd.databricks.v1+output": {
       "addedWidgets": {},
       "aggData": [],
       "aggError": "",
       "aggOverflow": false,
       "aggSchema": [],
       "aggSeriesLimitReached": false,
       "aggType": "",
       "arguments": {},
       "columnCustomDisplayInfos": {},
       "data": [
        [
         "Deforestation",
         "Iowa",
         "A lot of trees fell off for logging",
         "Low"
        ],
        [
         "Deforestation",
         "Iowa",
         "xyzbvjbndkf",
         "Low"
        ]
       ],
       "datasetInfos": [],
       "dbfsResultPath": null,
       "isJsonSchema": true,
       "metadata": {},
       "overflow": false,
       "plotOptions": {
        "customPlotOptions": {},
        "displayType": "table",
        "pivotAggregation": null,
        "pivotColumns": null,
        "xColumns": null,
        "yColumns": null
       },
       "removedWidgets": [],
       "schema": [
        {
         "metadata": "{}",
         "name": "incident_type",
         "type": "\"string\""
        },
        {
         "metadata": "{}",
         "name": "location",
         "type": "\"string\""
        },
        {
         "metadata": "{}",
         "name": "description",
         "type": "\"string\""
        },
        {
         "metadata": "{}",
         "name": "severity",
         "type": "\"string\""
        }
       ],
       "type": "table"
      }
     },
     "output_type": "display_data"
    }
   ],
   "source": [
    "%sql\n",
    "SELECT * FROM result_delta_table;"
   ]
  },
  {
   "cell_type": "code",
   "execution_count": 0,
   "metadata": {
    "application/vnd.databricks.v1+cell": {
     "cellMetadata": {},
     "inputWidgets": {},
     "nuid": "cc82471e-0eee-4238-83be-a5b26cadd954",
     "showTitle": false,
     "title": ""
    }
   },
   "outputs": [],
   "source": []
  }
 ],
 "metadata": {
  "application/vnd.databricks.v1+notebook": {
   "dashboards": [],
   "environmentMetadata": null,
   "language": "python",
   "notebookMetadata": {
    "mostRecentlyExecutedCommandWithImplicitDF": {
     "commandId": 659865382128533,
     "dataframes": [
      "_sqldf"
     ]
    },
    "pythonIndentUnit": 4
   },
   "notebookName": "Environmental reporting",
   "widgets": {}
  }
 },
 "nbformat": 4,
 "nbformat_minor": 0
}
